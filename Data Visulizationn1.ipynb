{
 "cells": [
  {
   "cell_type": "markdown",
   "id": "1fa9228e-aca8-4c3c-91b1-61054535883b",
   "metadata": {
    "id": "1fa9228e-aca8-4c3c-91b1-61054535883b"
   },
   "source": [
    "### Write a python code which defines x as array and y is 2 times of x. Plot line chart in matplot-lib"
   ]
  },
  {
   "cell_type": "code",
   "execution_count": 1,
   "id": "c914bbb6-1a2a-449a-88cb-81a7925155f5",
   "metadata": {
    "executionInfo": {
     "elapsed": 8,
     "status": "ok",
     "timestamp": 1721303776514,
     "user": {
      "displayName": "Uday Singh",
      "userId": "02796870780303216464"
     },
     "user_tz": -330
    },
    "id": "c914bbb6-1a2a-449a-88cb-81a7925155f5"
   },
   "outputs": [],
   "source": [
    "import numpy as n\n",
    "import numpy.random as np\n",
    "import pandas as pd\n",
    "import matplotlib.pyplot as plt"
   ]
  },
  {
   "cell_type": "code",
   "execution_count": 2,
   "id": "0e490824-12b8-46ca-9c2b-f96c83bff45e",
   "metadata": {
    "colab": {
     "base_uri": "https://localhost:8080/",
     "height": 182
    },
    "executionInfo": {
     "elapsed": 436,
     "status": "error",
     "timestamp": 1721303804696,
     "user": {
      "displayName": "Uday Singh",
      "userId": "02796870780303216464"
     },
     "user_tz": -330
    },
    "id": "0e490824-12b8-46ca-9c2b-f96c83bff45e",
    "outputId": "ed5a0781-67ad-4d72-b526-2fe4bc648e92"
   },
   "outputs": [
    {
     "data": {
      "text/plain": [
       "array([ 2,  8,  6, 14, 18,  4, 12,  2, 10])"
      ]
     },
     "execution_count": 2,
     "metadata": {},
     "output_type": "execute_result"
    }
   ],
   "source": [
    "x=n.array([1,4,3,7,9,2,6,1,5])\n",
    "y=[]\n",
    "y=x*2\n",
    "y"
   ]
  },
  {
   "cell_type": "code",
   "execution_count": 3,
   "id": "05637856-6367-49fb-883b-bdd9f20cf8a6",
   "metadata": {
    "executionInfo": {
     "elapsed": 5,
     "status": "aborted",
     "timestamp": 1721303776515,
     "user": {
      "displayName": "Uday Singh",
      "userId": "02796870780303216464"
     },
     "user_tz": -330
    },
    "id": "05637856-6367-49fb-883b-bdd9f20cf8a6"
   },
   "outputs": [
    {
     "data": {
      "text/plain": [
       "Text(0.5, 1.0, 'y=2x')"
      ]
     },
     "execution_count": 3,
     "metadata": {},
     "output_type": "execute_result"
    },
    {
     "data": {
      "image/png": "[encoded data removed]",
      "text/plain": [
       "<Figure size 640x480 with 1 Axes>"
      ]
     },
     "metadata": {},
     "output_type": "display_data"
    }
   ],
   "source": [
    "plt.plot(x,y)\n",
    "plt.title(\"y=2x\")"
   ]
  },
  {
   "cell_type": "markdown",
   "id": "61bd5055-778b-470c-80bc-221a2cfefd56",
   "metadata": {
    "id": "61bd5055-778b-470c-80bc-221a2cfefd56"
   },
   "source": [
    "### WAP to plot barplot which reprsenets the number of students enrolled in diff cources of an institute\n",
    "| Course  | Number of Students |\n",
    "|---------|--------------------|\n",
    "| C       | 20                 |\n",
    "| C++     | 15                 |\n",
    "| Java    | 30                 |\n",
    "| Python  | 35                 |\n",
    "### store this data in dictionary format give appropiate label name\n",
    "  "
   ]
  },
  {
   "cell_type": "code",
   "execution_count": 4,
   "id": "0942d869-e6c5-4a66-9c96-1ab1c9d0f4cf",
   "metadata": {
    "executionInfo": {
     "elapsed": 5,
     "status": "aborted",
     "timestamp": 1721303776515,
     "user": {
      "displayName": "Uday Singh",
      "userId": "02796870780303216464"
     },
     "user_tz": -330
    },
    "id": "0942d869-e6c5-4a66-9c96-1ab1c9d0f4cf"
   },
   "outputs": [],
   "source": [
    "df=pd.DataFrame(\n",
    "    {\n",
    "        'Course':['C','C++','Java','Python'],\n",
    "        'No_students':[20,15,30,35]\n",
    "\n",
    "    }\n",
    ")"
   ]
  },
  {
   "cell_type": "code",
   "execution_count": 5,
   "id": "b2553656-5614-4b04-9a6c-6c62e28a9a50",
   "metadata": {
    "executionInfo": {
     "elapsed": 5,
     "status": "aborted",
     "timestamp": 1721303776515,
     "user": {
      "displayName": "Uday Singh",
      "userId": "02796870780303216464"
     },
     "user_tz": -330
    },
    "id": "b2553656-5614-4b04-9a6c-6c62e28a9a50"
   },
   "outputs": [
    {
     "data": {
      "text/html": [
       "<div>\n",
       "<style scoped>\n",
       "    .dataframe tbody tr th:only-of-type {\n",
       "        vertical-align: middle;\n",
       "    }\n",
       "\n",
       "    .dataframe tbody tr th {\n",
       "        vertical-align: top;\n",
       "    }\n",
       "\n",
       "    .dataframe thead th {\n",
       "        text-align: right;\n",
       "    }\n",
       "</style>\n",
       "<table border=\"1\" class=\"dataframe\">\n",
       "  <thead>\n",
       "    <tr style=\"text-align: right;\">\n",
       "      <th></th>\n",
       "      <th>Course</th>\n",
       "      <th>No_students</th>\n",
       "    </tr>\n",
       "  </thead>\n",
       "  <tbody>\n",
       "    <tr>\n",
       "      <th>0</th>\n",
       "      <td>C</td>\n",
       "      <td>20</td>\n",
       "    </tr>\n",
       "    <tr>\n",
       "      <th>1</th>\n",
       "      <td>C++</td>\n",
       "      <td>15</td>\n",
       "    </tr>\n",
       "    <tr>\n",
       "      <th>2</th>\n",
       "      <td>Java</td>\n",
       "      <td>30</td>\n",
       "    </tr>\n",
       "    <tr>\n",
       "      <th>3</th>\n",
       "      <td>Python</td>\n",
       "      <td>35</td>\n",
       "    </tr>\n",
       "  </tbody>\n",
       "</table>\n",
       "</div>"
      ],
      "text/plain": [
       "   Course  No_students\n",
       "0       C           20\n",
       "1     C++           15\n",
       "2    Java           30\n",
       "3  Python           35"
      ]
     },
     "execution_count": 5,
     "metadata": {},
     "output_type": "execute_result"
    }
   ],
   "source": [
    "df"
   ]
  },
  {
   "cell_type": "code",
   "execution_count": 6,
   "id": "3785cfa9-c1bd-44d5-8884-5890be64d788",
   "metadata": {
    "id": "3785cfa9-c1bd-44d5-8884-5890be64d788",
    "outputId": "40d20c73-5945-476f-bcdd-a045a1a29b56"
   },
   "outputs": [
    {
     "data": {
      "text/plain": [
       "Text(0, 0.5, 'No . of students')"
      ]
     },
     "execution_count": 6,
     "metadata": {},
     "output_type": "execute_result"
    },
    {
     "data": {
      "image/png": "[encoded data removed]",
      "text/plain": [
       "<Figure size 640x480 with 1 Axes>"
      ]
     },
     "metadata": {},
     "output_type": "display_data"
    }
   ],
   "source": [
    "plt.bar(df['Course'],df['No_students'])\n",
    "plt.xlabel(\"course\")\n",
    "plt.ylabel(\"No . of students\")\n"
   ]
  },
  {
   "cell_type": "code",
   "execution_count": 7,
   "id": "f1de0714-d2db-48c2-87f6-8ad9abdf77dc",
   "metadata": {
    "id": "f1de0714-d2db-48c2-87f6-8ad9abdf77dc",
    "outputId": "4421235a-59e3-46bf-84cf-5f4e9c99240e"
   },
   "outputs": [
    {
     "data": {
      "text/plain": [
       "{'C': 20, 'C++': 15, 'Java': 30, 'Python': 35}"
      ]
     },
     "execution_count": 7,
     "metadata": {},
     "output_type": "execute_result"
    }
   ],
   "source": [
    "data ={'C':20,'C++':15,'Java':30,'Python':35}\n",
    "data"
   ]
  },
  {
   "cell_type": "code",
   "execution_count": 8,
   "id": "2be4bcc0-b207-4a32-8bec-efab4ac9364f",
   "metadata": {
    "id": "2be4bcc0-b207-4a32-8bec-efab4ac9364f",
    "outputId": "4b55db86-14d7-4088-85e3-f4c9e4288256"
   },
   "outputs": [],
   "source": [
    "course=list(data.keys())\n",
    "no_of_student=list(data.values())"
   ]
  },
  {
   "cell_type": "code",
   "execution_count": 9,
   "id": "b2eda92d-c297-4aef-9ca6-eb96135a005e",
   "metadata": {
    "id": "b2eda92d-c297-4aef-9ca6-eb96135a005e"
   },
   "outputs": [
    {
     "data": {
      "text/plain": [
       "Text(0.5, 1.0, 'Number of Students Enrolled in Different Courses')"
      ]
     },
     "execution_count": 9,
     "metadata": {},
     "output_type": "execute_result"
    },
    {
     "data": {
      "image/png": "[encoded data removed]",
      "text/plain": [
       "<Figure size 640x480 with 1 Axes>"
      ]
     },
     "metadata": {},
     "output_type": "display_data"
    }
   ],
   "source": [
    "colors=['red','green','blue','yellow']\n",
    "plt.bar(course,df['No_students'],color=colors)\n",
    "plt.xlabel('Courses')\n",
    "plt.ylabel('Number of Students')\n",
    "plt.title('Number of Students Enrolled in Different Courses')"
   ]
  },
  {
   "cell_type": "markdown",
   "id": "1bb95b9a-c254-4053-8c11-58aceff56488",
   "metadata": {
    "id": "1bb95b9a-c254-4053-8c11-58aceff56488"
   },
   "source": [
    "### WAP to create basic histogram by generating random data for histogram"
   ]
  },
  {
   "cell_type": "code",
   "execution_count": 10,
   "id": "63d2b91e-697e-424e-a0e1-374b023e05dd",
   "metadata": {
    "id": "63d2b91e-697e-424e-a0e1-374b023e05dd",
    "outputId": "94e91008-6b01-46aa-dbab-8d53853c81de",
    "scrolled": true
   },
   "outputs": [
    {
     "data": {
      "text/plain": [
       "array([ 2.15315292e-01,  9.82071532e-01,  1.54859982e-01,  3.03657928e-03,\n",
       "        9.79661641e-03, -4.78025013e-01, -1.59090558e-01,  5.11039735e-02,\n",
       "        4.98341151e-01,  1.71561627e+00,  1.93754560e+00,  9.93346126e-01,\n",
       "       -1.81202766e+00,  2.36331740e-01,  2.09069194e-01, -2.07352713e-01,\n",
       "       -2.28238602e-01, -9.42199569e-01, -2.64020578e-01,  1.12540551e+00,\n",
       "        5.14924602e-01,  1.01753618e+00,  1.70264230e+00, -7.34431208e-01,\n",
       "        4.39449674e-01, -1.30959434e-01,  1.18825832e-01, -1.45353403e-01,\n",
       "       -7.35755886e-02, -1.21255880e+00, -1.80076818e-01,  1.54097367e+00,\n",
       "        1.45899062e-01, -3.20100195e-01, -4.32549012e-01, -1.16081178e+00,\n",
       "       -7.64202185e-01,  2.52681935e-01,  6.98349430e-01, -3.18092316e-01,\n",
       "        5.87192501e-01, -1.36276872e+00,  2.60856906e-01, -1.35208835e+00,\n",
       "       -3.33903291e-01, -6.62576021e-01, -1.40434387e+00, -9.03511725e-02,\n",
       "       -1.34867617e+00, -6.73389891e-01, -7.41213923e-01,  6.18468884e-01,\n",
       "       -1.34164985e+00, -3.30214631e-01, -1.03588312e+00, -2.17397785e+00,\n",
       "        1.29696639e+00,  2.06924054e+00, -1.38159581e+00, -4.59479148e-01,\n",
       "       -1.07889246e+00,  9.38190363e-01,  1.03854830e+00,  2.33924514e-02,\n",
       "        6.36500283e-01,  1.54129325e+00,  3.30362030e-01,  1.35751391e+00,\n",
       "       -4.39277682e-01,  3.72167773e-01, -1.54374062e+00, -2.15280427e-01,\n",
       "       -6.57265882e-01, -9.70556384e-01,  9.48218594e-01, -1.64521151e+00,\n",
       "        3.56030850e-01,  2.00565164e+00, -1.19203618e+00,  9.24306229e-01,\n",
       "        1.61946002e+00, -1.69675090e+00,  1.37476324e+00,  1.07921315e+00,\n",
       "        1.01878905e+00,  9.25072819e-01, -9.21355077e-01, -7.63091460e-01,\n",
       "        9.01778728e-01,  1.09197430e+00,  1.83270033e-01, -2.17439995e-01,\n",
       "        8.02916837e-01, -1.62696270e+00,  1.64826157e+00,  1.06919054e-01,\n",
       "       -7.46431924e-01,  1.20114846e-01, -7.90868564e-01,  3.33965945e-01,\n",
       "        2.56297284e+00,  1.39804434e+00,  1.73220198e-01,  1.30975543e+00,\n",
       "       -1.40066828e+00,  4.82688558e-01,  1.39313320e+00,  3.66329979e-01,\n",
       "       -1.88255365e+00, -1.93316787e-01, -4.70685673e-01,  3.78111196e-01,\n",
       "       -5.13539785e-01, -2.17268973e-01, -1.57788200e+00, -5.50021673e-01,\n",
       "       -3.11271465e-01,  8.46398022e-01,  7.13117338e-01,  3.27631331e-01,\n",
       "        1.03425989e+00, -1.48723577e+00, -8.42000586e-01,  1.43913364e+00,\n",
       "        7.35848776e-01, -1.41169721e+00, -7.11405280e-01, -4.78114832e-01,\n",
       "       -6.19563763e-01, -5.61464792e-01, -7.17524639e-02, -3.79167243e-01,\n",
       "       -5.62444643e-01,  4.87509290e-02,  7.77731838e-01,  4.29922019e-02,\n",
       "        7.22930635e-01,  9.02480942e-01,  2.04713019e-01, -1.11544386e+00,\n",
       "        6.55402476e-01,  1.99220283e+00,  1.14091414e+00,  3.80530500e-01,\n",
       "        1.15299420e+00, -1.50857827e-01, -8.66845235e-01, -1.05279693e+00,\n",
       "       -3.04775893e-01, -8.07777325e-01, -4.73704397e-01,  1.08494659e+00,\n",
       "       -1.38922529e+00, -4.23276225e-01, -1.99272251e+00, -5.55938214e-02,\n",
       "        9.59661072e-01, -3.75832868e-01, -5.57653576e-01, -1.64030805e+00,\n",
       "       -1.15683181e-01,  1.11181194e+00, -3.25763881e-01,  5.48833530e-01,\n",
       "        1.35088325e+00,  1.45972568e-01,  2.27324129e+00, -1.12513051e+00,\n",
       "        1.18205339e+00, -6.38458024e-01,  7.59968568e-01, -3.67403610e-01,\n",
       "       -8.80383387e-01,  6.56912773e-01,  7.74665687e-01, -7.70012576e-01,\n",
       "       -2.14786567e-01, -1.33353446e-01, -1.33204844e+00,  8.49026328e-01,\n",
       "        2.98473820e-01, -3.92032648e-01,  7.33668249e-01, -7.15454826e-01,\n",
       "        2.26013050e-01,  8.59013651e-01,  8.02718784e-01, -3.61460766e-01,\n",
       "       -7.43340227e-01,  5.12220722e-01,  2.12393722e-01,  4.19733223e-01,\n",
       "        6.92203662e-01,  2.75476874e-01, -2.87867259e-01, -1.62729905e-01,\n",
       "        9.07392382e-01,  9.93368414e-01, -1.73106324e+00, -2.35061704e-01,\n",
       "       -1.36667705e-01,  2.33442815e-04,  1.09748246e-01,  1.65729627e+00,\n",
       "       -7.94062737e-01, -3.25770611e-01, -3.00941704e-01,  1.11743291e+00,\n",
       "        6.25296479e-02,  2.56815701e-01,  1.21371707e+00, -9.22667652e-01,\n",
       "       -5.54814237e-01, -1.25951016e+00, -1.32834427e+00, -2.85637942e-01,\n",
       "       -1.90751944e+00,  3.74517037e-01, -1.39892506e+00,  5.82922207e-01,\n",
       "       -2.65402735e-01, -6.80003917e-01,  5.06032584e-03, -1.14080887e+00,\n",
       "        6.31482479e-01,  1.18693293e-02, -1.51679808e-01, -3.34199508e-01,\n",
       "       -3.74660721e-02, -2.59705995e-01, -4.09972417e-02, -1.02522528e+00,\n",
       "       -2.64220159e-01,  7.00288968e-01,  2.24101507e-03,  2.99808553e-01,\n",
       "       -1.28886351e+00, -4.05929708e-01, -1.32943873e-01,  1.45580250e+00,\n",
       "       -7.39392503e-01, -1.86099092e+00, -3.83723991e-01, -1.08003845e+00,\n",
       "       -2.43193751e-01, -9.11214508e-01,  6.16171693e-01, -2.40463737e-01,\n",
       "        3.26689979e-01,  1.60761562e+00, -1.13256367e+00, -4.62856595e-01,\n",
       "        1.25409505e+00,  7.96575556e-01,  7.78755615e-01,  5.00189871e-01,\n",
       "       -8.94475694e-01,  1.19391986e+00, -9.79962450e-01, -1.74627494e+00,\n",
       "       -1.24544384e-01, -3.02769237e-01, -1.98006410e-01,  8.81823744e-01,\n",
       "       -9.09327405e-01,  4.86075404e-01, -1.41005271e+00,  1.08088076e-02,\n",
       "       -4.15253685e-01,  5.46142675e-02,  5.41330219e-02,  8.39873678e-02,\n",
       "        6.97958090e-01,  6.77771258e-01, -2.14379083e-01,  1.32851369e+00,\n",
       "       -7.83169551e-01,  4.88598573e-01,  3.43948562e-01,  2.27737596e-01,\n",
       "       -3.59025738e-01,  1.19826563e+00,  2.81138897e-01,  7.99887826e-01,\n",
       "        2.54640269e+00, -2.73511730e-01, -8.65762634e-01, -1.47566201e+00,\n",
       "        8.11355878e-01, -1.07512425e+00, -3.29133611e-01,  5.43385297e-01,\n",
       "       -3.19177158e-01, -9.52596674e-03,  1.86445585e+00,  1.68206035e+00,\n",
       "        6.45109808e-01,  1.86441192e+00, -9.44364556e-01,  1.10660237e+00,\n",
       "       -6.32143724e-01, -1.31641998e+00, -6.15580425e-01, -3.26713285e-01,\n",
       "       -7.90649599e-01,  3.09863009e-01,  9.46115155e-01, -3.88795445e-01,\n",
       "       -9.35334116e-01,  8.84840630e-01, -1.30946232e+00, -1.45047485e+00,\n",
       "        9.93384000e-01,  7.41944334e-01,  3.10542869e-01,  2.11547647e-01,\n",
       "       -6.35232612e-01,  2.66550083e-01, -2.02892601e+00, -2.58331520e-01,\n",
       "       -5.31399243e-01, -3.17447188e-02, -4.93357062e-01, -4.59485029e-01,\n",
       "        4.61415313e-01, -1.10680651e+00, -1.64444312e+00,  1.61788650e+00,\n",
       "        9.22369878e-01,  7.21838110e-01,  1.11444714e+00,  1.27621382e+00,\n",
       "       -3.88474140e-01, -6.60236214e-01,  1.17960044e+00, -5.66542649e-01,\n",
       "        2.90746453e-01, -2.06676617e-01,  1.06887226e+00, -3.35815588e-01,\n",
       "        3.58375337e-01,  9.02520597e-01, -2.41330537e-01, -5.68127487e-01,\n",
       "       -5.73387294e-01, -1.92990842e+00,  2.45714361e-01, -5.69395844e-01,\n",
       "        1.50031840e+00, -1.24410068e+00, -5.53539023e-01, -8.26058533e-02,\n",
       "        5.92542239e-01,  8.12765698e-01,  4.93279951e-02,  6.49934534e-01,\n",
       "        2.64515707e+00, -1.30248511e-01, -9.92664277e-01, -2.91080639e+00,\n",
       "        1.64924865e+00, -2.11653992e+00, -1.12322380e+00, -3.23122801e-02,\n",
       "        1.23669645e+00, -7.12435385e-02,  4.40046609e-01,  2.05206347e-01,\n",
       "       -1.54135414e-01, -1.24286211e+00,  9.32619628e-01, -1.07389640e+00,\n",
       "        8.76441241e-01, -1.18775380e+00,  1.21029872e+00, -9.26575643e-02,\n",
       "        1.10306682e+00,  7.88265958e-01, -6.47219285e-01,  6.66593267e-02,\n",
       "        9.82562678e-01,  7.89052581e-01, -5.39629248e-01, -1.02540753e+00,\n",
       "       -4.18448309e-01, -2.88648889e-01,  2.03397607e+00,  6.66674167e-01,\n",
       "       -6.40868866e-01, -2.35109668e-03, -1.17150855e-01, -2.44350029e-02,\n",
       "       -9.03262479e-02, -1.18496388e+00, -7.45494850e-01, -1.17020233e+00,\n",
       "       -9.70017248e-01, -2.17972015e-01, -8.06586249e-01, -1.21826234e+00,\n",
       "       -3.65147970e-02,  4.56124240e-01,  1.15318504e+00, -6.95740439e-01,\n",
       "       -4.09324861e-01, -1.36645439e+00, -1.17475581e+00,  1.62027422e-01,\n",
       "        4.41873347e-01,  1.30619962e+00,  9.36090946e-01, -7.31710877e-02,\n",
       "        3.99531653e-01, -8.39891408e-01,  1.98462155e+00,  1.27837855e-01,\n",
       "       -1.09643808e+00,  5.12580089e-01,  1.16060628e+00,  3.14451399e-01,\n",
       "       -2.51726403e-01,  2.74506549e-01, -8.74618814e-01, -1.68851033e+00,\n",
       "       -7.47679650e-01,  4.51482436e-01, -2.39816864e-02,  2.38060601e-02,\n",
       "       -8.32693401e-01, -1.38685156e-01,  1.04415679e+00, -2.50771965e-01,\n",
       "       -5.53952852e-01, -7.71309220e-01, -5.91023819e-01, -6.05088962e-02,\n",
       "       -1.38006065e-01,  1.03988284e-01,  7.14839595e-02, -5.48067818e-02,\n",
       "        5.33759985e-01,  1.31627377e+00, -1.60219090e+00, -7.34872509e-01,\n",
       "       -6.53407735e-01, -7.91114351e-01, -2.16943231e+00, -3.38746384e-01,\n",
       "        1.52095257e+00, -4.45647582e-01, -1.22769578e+00, -1.75584491e+00,\n",
       "        6.33861201e-01,  8.23633949e-01,  4.09899972e-01,  8.33897867e-01,\n",
       "        1.05793006e+00, -2.09778771e-01, -1.50131412e+00, -1.18958702e+00,\n",
       "        1.89115904e+00,  7.25008529e-01,  1.52656366e+00,  7.84053619e-01,\n",
       "       -5.62384659e-01, -8.01287873e-01,  3.63062408e-01, -2.70976120e-01,\n",
       "       -8.79322721e-01, -1.13908269e+00,  9.82436237e-01,  5.07631815e-01,\n",
       "        7.66586301e-01, -1.84257383e+00, -8.90594875e-02, -1.83118681e+00,\n",
       "        8.38084906e-02, -1.82569668e+00,  5.10020879e-01, -1.05811504e+00,\n",
       "        9.13629379e-01,  3.57830136e-01, -8.63120765e-01, -1.69323197e-01,\n",
       "        7.19219521e-01,  2.98109337e-01,  1.29664317e+00, -6.29808308e-01,\n",
       "        1.43480391e+00, -3.18426795e-01, -1.83839205e+00,  1.43261445e-01,\n",
       "        1.00017504e+00,  6.98989572e-01,  6.82321920e-02, -2.42962694e+00,\n",
       "       -1.34650480e+00,  1.81479651e-01,  1.93464323e+00,  5.56512152e-02,\n",
       "        1.93006702e+00, -2.11007370e-02,  6.79695277e-01, -5.24095602e-01,\n",
       "       -8.47419174e-01, -2.71968058e-01,  1.86499955e+00, -1.84668579e+00,\n",
       "       -1.33073877e+00,  9.77068158e-01, -1.20318441e+00, -3.80388489e-01,\n",
       "       -5.27355542e-01, -1.41182986e-01,  3.31328947e-02, -1.77292030e+00,\n",
       "        6.03074712e-01,  5.26806230e-01, -6.55233450e-01,  2.27705776e-02,\n",
       "       -4.50189477e-01, -2.15163046e+00,  3.52616331e-01,  5.68119948e-01,\n",
       "       -5.51713555e-01,  6.33047355e-01, -1.79677301e-01, -2.55531986e-01,\n",
       "       -3.00880901e-01,  1.31613304e+00,  6.34456042e-01,  1.00670265e+00,\n",
       "       -2.15950733e-01, -5.54311886e-02, -6.14271714e-01, -4.42219869e-01,\n",
       "       -1.21600370e+00, -1.23712761e+00, -1.90720173e+00, -7.39315584e-02,\n",
       "        1.81497944e+00, -3.21061352e-01, -6.44049786e-01, -1.61379043e-01,\n",
       "        8.94447990e-01,  1.63058651e+00,  4.07076208e-01,  4.96163325e-01,\n",
       "       -4.40765132e-01,  1.15977696e+00,  5.24832028e-02, -4.36132359e-01,\n",
       "       -5.83070870e-01,  1.49455776e+00, -1.61071562e-01, -5.49427261e-01,\n",
       "       -1.54574372e+00,  5.34092723e-01,  4.80572281e-01,  3.98713653e-01,\n",
       "        1.63328509e+00, -3.75353782e-01,  5.81902217e-01, -1.19982511e+00,\n",
       "       -1.13645832e+00,  8.32979169e-01, -1.47083287e+00, -5.89951567e-02,\n",
       "        1.24889465e-02,  1.66824398e-01,  1.16588043e+00, -7.83243300e-02,\n",
       "       -7.39530794e-01, -6.23935778e-01, -1.75899707e+00,  1.22071716e+00,\n",
       "        7.47689311e-01,  5.08035163e-01, -4.90216706e-01,  3.82825610e-01,\n",
       "        6.19932477e-01,  7.17813141e-01, -5.43324453e-01,  7.18335390e-01,\n",
       "       -1.26564768e+00,  2.78610133e-02,  2.24511254e+00, -1.04153447e+00,\n",
       "       -2.94918402e+00,  6.31690715e-01, -1.48034281e+00, -8.58677601e-01,\n",
       "        1.14335435e+00, -2.35234406e+00,  6.91725159e-01,  8.50561034e-02,\n",
       "       -1.32794522e-01, -1.85035886e+00, -5.87274743e-01,  8.15148204e-02,\n",
       "       -1.79027020e-01,  1.93678100e+00,  2.06396499e+00,  6.63138090e-01,\n",
       "       -1.75741467e+00,  9.12189603e-01,  4.10470210e-01, -8.43866267e-01,\n",
       "        1.14913967e+00,  9.20460919e-01, -4.34119673e-01, -7.85169675e-01,\n",
       "        4.47109133e-01,  9.33295270e-01,  5.27176913e-01, -1.01742899e-01,\n",
       "       -3.48184380e-01,  5.55013711e-03, -5.74059407e-01, -6.01984953e-02,\n",
       "        4.90979137e-01, -9.84343880e-01,  1.82696524e+00, -1.10943152e+00,\n",
       "       -8.52618902e-01,  1.78706446e+00, -3.00136387e-01, -8.92630532e-01,\n",
       "        4.65630442e-01, -4.72157636e-01, -1.76072133e-01,  6.57362074e-02,\n",
       "       -3.48721770e-01,  1.04834495e+00, -1.75074331e+00,  1.31401906e+00,\n",
       "       -4.07159224e-01,  1.18623503e+00, -1.85119927e+00, -5.08622605e-01,\n",
       "        1.04587004e+00, -1.30984470e+00,  7.17909341e-02,  6.03936713e-01,\n",
       "       -5.86112161e-01,  2.32256333e-01, -1.15413439e+00,  1.13044298e+00,\n",
       "       -9.22347132e-01,  3.24588442e-01,  1.87315552e-01,  4.63468314e-01,\n",
       "        1.35331341e+00,  2.54208384e-01,  2.39189290e-01,  1.47805258e+00,\n",
       "        3.90117284e-01,  1.48251600e+00, -1.49616182e-01,  9.54911322e-01,\n",
       "       -4.07923498e-01, -8.80961017e-01,  9.07972685e-01,  5.71270059e-01,\n",
       "       -1.81844488e+00,  5.90023051e-01,  1.27800382e+00, -7.31728123e-01,\n",
       "       -4.18867215e-01, -2.25881275e+00,  5.14984383e-01, -1.19252918e-01,\n",
       "       -2.65528894e-02,  1.12729328e-01,  8.91565771e-01, -1.36442674e-01,\n",
       "        3.35682014e-02,  1.13295942e+00, -9.52075452e-01, -1.06347929e-01,\n",
       "       -2.42462574e-02, -1.13299996e+00,  2.62805183e-01,  2.91980945e-01,\n",
       "        4.49401618e-01,  1.13403170e+00, -2.00157828e+00,  7.82027366e-01,\n",
       "       -5.32593595e-01, -3.31941705e-01,  1.83963257e-01, -1.21981035e+00,\n",
       "       -2.60576885e+00,  3.10803094e-01, -1.49761141e+00,  7.51472436e-01,\n",
       "        1.44666920e-01, -5.12090464e-01, -1.62344728e-02,  4.05639277e-01,\n",
       "        4.09939729e-01, -9.35536370e-01,  8.33056630e-01, -1.03623771e+00,\n",
       "       -1.21005721e+00,  3.21206793e-01,  8.53386326e-02, -2.35811430e-01,\n",
       "       -2.23640223e+00, -1.22836768e+00, -4.91986538e-01, -8.84758205e-01,\n",
       "        6.30334742e-01, -7.60968912e-01, -7.25472337e-01,  1.23609224e+00,\n",
       "       -6.64268042e-01,  1.21620918e+00,  2.80166691e-01,  1.45007806e+00,\n",
       "        1.25701394e+00, -6.73360591e-01,  1.35104377e+00,  3.23128152e-01,\n",
       "        2.40506049e-01,  1.02341248e+00, -8.79589657e-01, -3.50783769e-01,\n",
       "       -9.33171068e-01, -2.56656189e-01,  4.37854320e-01, -9.34686718e-02,\n",
       "       -7.74120013e-01, -9.19681449e-01, -1.80624552e+00,  1.34537933e+00,\n",
       "        5.78286254e-01, -1.61690983e+00, -8.80462787e-01,  5.53533311e-01,\n",
       "       -1.55788997e+00,  4.36805075e-01,  1.27676335e+00, -1.44801990e-01,\n",
       "        3.55429545e-01, -1.75486064e-01,  1.25596871e+00, -2.65121384e-01,\n",
       "        8.90931380e-01, -4.67296913e-02,  7.14405049e-01,  5.70615710e-01,\n",
       "       -1.03447791e-01,  4.20462669e-01,  1.09535965e+00,  1.92072057e-01,\n",
       "        1.05805274e+00,  1.43629109e+00, -2.27559217e+00, -2.60740578e+00,\n",
       "       -4.80401026e-01, -6.80547941e-01,  9.91899361e-01, -1.00539634e-01,\n",
       "        1.49147392e+00,  5.25053238e-01,  2.23869195e+00,  1.46120544e-01,\n",
       "        7.87937777e-01,  1.93415420e-01, -1.55234382e-01, -6.98231708e-01,\n",
       "       -4.38887062e-01, -8.60176780e-01, -7.58400227e-01, -2.24036528e-01,\n",
       "       -1.54219398e+00,  5.96266937e-01, -7.54855807e-01,  1.36474261e+00,\n",
       "       -1.65140170e+00, -1.28373176e-01, -6.01204377e-01, -2.81850446e-01,\n",
       "       -9.89645857e-01, -1.48777062e+00,  6.47560533e-01, -6.98267591e-01,\n",
       "       -3.98416241e-01, -1.29784704e-01,  7.93402848e-01,  5.22481024e-01,\n",
       "       -1.49129680e+00, -4.49580591e-01,  9.54234935e-01, -1.35634435e+00,\n",
       "       -4.38185515e-01, -3.89561077e-01,  4.44713298e-01,  8.89368110e-01,\n",
       "       -1.45637468e+00,  1.73632251e+00,  9.85816738e-01,  5.13538860e-01,\n",
       "        1.06721619e+00,  9.40510889e-01, -3.80891281e-01, -2.05133905e-01,\n",
       "       -5.55328735e-01,  1.37977831e+00,  3.31627305e-01,  5.45139644e-01,\n",
       "        3.72268671e-02, -2.09608676e+00, -8.55673947e-01, -7.26037265e-02,\n",
       "        1.90575147e+00,  3.14337790e-02,  8.18448057e-01, -5.80778085e-01,\n",
       "        3.69245270e-01,  9.42752682e-01,  7.22333707e-01, -1.47996108e-01,\n",
       "       -1.50847546e+00,  1.57029167e+00, -9.74309626e-01, -3.10651585e-01,\n",
       "       -6.98071014e-01,  8.45482311e-02, -4.49452454e-01, -3.25125317e-01,\n",
       "        4.84730296e-01,  1.18967730e+00,  5.11382269e-01,  2.06522341e-01,\n",
       "       -5.00796346e-01,  5.17815422e-01,  1.49133460e+00, -1.35317704e+00,\n",
       "        2.99280248e-01, -1.12929186e-01, -1.73611662e+00,  1.41924739e-01,\n",
       "       -5.71906635e-01, -1.17472817e+00,  6.58235648e-01,  6.83661602e-01,\n",
       "        9.93072415e-01,  9.63532116e-03, -7.72396943e-01,  1.71564740e+00,\n",
       "        1.26935947e+00, -7.91287669e-01,  3.30198688e-01, -5.26233090e-01,\n",
       "       -3.80673173e-01,  4.85679490e-01, -1.00761635e-01, -1.84924551e+00,\n",
       "       -2.06713134e-01,  8.35907619e-01, -7.39827425e-02, -1.38507474e+00,\n",
       "       -3.79046036e-01,  1.65320851e-01,  1.08671173e+00,  5.41609221e-01,\n",
       "       -2.72767808e-01,  5.35756541e-01,  1.12453949e+00, -3.05719834e-02,\n",
       "       -1.16943444e+00, -5.68276747e-01,  1.23709873e+00, -2.83300463e-01,\n",
       "       -2.70845525e-01, -9.16328432e-01,  1.72820188e-01,  1.43971276e+00,\n",
       "       -2.20156122e+00, -1.60779135e+00, -2.05683550e+00,  1.82583443e+00,\n",
       "        1.50729853e+00,  4.58917681e-01, -1.12122683e+00,  1.09152416e+00,\n",
       "        9.17115977e-01, -1.39033691e+00,  1.02053636e+00,  1.84706747e+00,\n",
       "        1.32759212e+00,  1.57187859e+00, -2.32910751e-01,  3.34605002e-01,\n",
       "        4.23087362e-01, -7.70598007e-01,  8.68712345e-01,  8.47467814e-01,\n",
       "        1.78046552e-01,  2.34636963e+00, -1.74026275e+00, -6.37783320e-01,\n",
       "       -8.63226507e-01, -5.19542726e-01,  7.31085340e-01,  1.46693315e+00,\n",
       "       -1.23966893e+00,  6.73806412e-01, -5.72910845e-01,  8.91560942e-01,\n",
       "       -3.23263842e+00, -7.01610873e-01,  1.09144116e+00,  2.43012523e+00,\n",
       "        5.68104189e-01, -1.52405374e+00,  3.64828809e-01,  8.47276667e-01,\n",
       "       -1.26755577e+00,  7.22962272e-01,  1.57966651e-02, -1.42372038e+00,\n",
       "       -8.36530614e-01, -3.28116902e-01,  2.23017411e-01,  7.18883672e-01,\n",
       "        1.02516620e-01, -1.38366839e+00, -1.05175802e+00,  4.85674196e-01,\n",
       "        5.22476269e-01, -8.99976148e-01,  1.18164884e+00,  1.00441885e-01,\n",
       "       -1.36750696e-01,  3.19567308e-01, -6.16089465e-01,  4.50070851e-01,\n",
       "       -1.44895134e+00,  4.91913377e-02, -2.40242021e+00, -6.13414974e-01,\n",
       "        3.90700855e-01,  4.41750740e-01, -1.37447532e+00,  1.92554861e+00,\n",
       "       -8.54194514e-01,  1.38174476e+00, -3.98523146e-01,  1.47947114e+00,\n",
       "        3.96037488e-01, -9.92312839e-01,  1.09894736e-01, -5.58808621e-01,\n",
       "        5.68321082e-02,  9.21314574e-01,  7.84675782e-01, -8.93583816e-02,\n",
       "        1.46448858e+00,  9.15123647e-01, -1.08924467e+00,  1.51654297e-01,\n",
       "        2.12909069e-01, -1.82218936e+00,  4.33073044e-01, -8.59251190e-01,\n",
       "       -9.00293298e-01,  4.41342247e-01, -4.02080625e-01, -3.88844489e-01,\n",
       "       -3.55150765e-01, -1.16356592e+00, -1.41789592e+00,  3.58125481e-01,\n",
       "        1.05262987e-01,  1.87041908e-01, -2.64952312e+00, -7.17375170e-01,\n",
       "        1.92159970e-01,  1.06147352e+00,  1.74244785e+00,  8.34600396e-01,\n",
       "        4.37886422e-01, -5.93968425e-01, -1.00384935e+00, -5.61928657e-01,\n",
       "        1.01379054e-02, -6.82461098e-02,  6.85585012e-02,  8.29238896e-01,\n",
       "       -1.04063128e-01, -6.53014690e-01, -8.75425471e-01,  1.83759837e+00,\n",
       "       -3.15142673e-01,  1.96424622e+00, -3.82209488e-01, -9.22425150e-02])"
      ]
     },
     "execution_count": 10,
     "metadata": {},
     "output_type": "execute_result"
    }
   ],
   "source": [
    "data=np.randn(1000)\n",
    "data"
   ]
  },
  {
   "cell_type": "code",
   "execution_count": 11,
   "id": "2f9ed9d6-8bd0-418e-9541-16898f98f450",
   "metadata": {
    "id": "2f9ed9d6-8bd0-418e-9541-16898f98f450",
    "outputId": "816beb5f-5128-4cd8-fea7-ac0f402f7627"
   },
   "outputs": [
    {
     "data": {
      "text/plain": [
       "Text(0.5, 1.0, 'Distribution of data')"
      ]
     },
     "execution_count": 11,
     "metadata": {},
     "output_type": "execute_result"
    },
    {
     "data": {
      "image/png": "[encoded data removed]",
      "text/plain": [
       "<Figure size 640x480 with 1 Axes>"
      ]
     },
     "metadata": {},
     "output_type": "display_data"
    }
   ],
   "source": [
    "plt.hist(data,color=\"lightgreen\")\n",
    "\n",
    "plt.title(\"Distribution of data\")"
   ]
  },
  {
   "cell_type": "markdown",
   "id": "601f236a-85cb-459d-a91a-5a43640edfea",
   "metadata": {
    "id": "601f236a-85cb-459d-a91a-5a43640edfea"
   },
   "source": [
    "### Create a scatterplot which defines x and y coordinates then plots the points in blue and display the plot"
   ]
  },
  {
   "cell_type": "code",
   "execution_count": 12,
   "id": "d2a5f67a-135c-4e87-8337-eb5f33cb47e2",
   "metadata": {
    "id": "d2a5f67a-135c-4e87-8337-eb5f33cb47e2"
   },
   "outputs": [],
   "source": [
    "x=np.randn(100)\n",
    "y=np.randn(100)"
   ]
  },
  {
   "cell_type": "code",
   "execution_count": 13,
   "id": "d2ef8bd0-dc0c-4742-be41-8bbeb9acfeb5",
   "metadata": {
    "id": "d2ef8bd0-dc0c-4742-be41-8bbeb9acfeb5",
    "outputId": "f80de196-20c9-4d5a-caee-deadb68eae1d"
   },
   "outputs": [
    {
     "data": {
      "text/plain": [
       "<matplotlib.collections.PathCollection at 0x2427ed1ae50>"
      ]
     },
     "execution_count": 13,
     "metadata": {},
     "output_type": "execute_result"
    },
    {
     "data": {
      "image/png": "[encoded data removed]",
      "text/plain": [
       "<Figure size 640x480 with 1 Axes>"
      ]
     },
     "metadata": {},
     "output_type": "display_data"
    }
   ],
   "source": [
    "plt.scatter(x,y,color='red')"
   ]
  },
  {
   "cell_type": "markdown",
   "id": "c7867b54-d348-4185-9a86-957f77009e70",
   "metadata": {
    "id": "c7867b54-d348-4185-9a86-957f77009e70"
   },
   "source": [
    "### Generate the scatter plot showcasing 2 distinct data set , which are set of X and Y coordinates the code employees diffrenet markers , color and styling options for enhanced visualization"
   ]
  },
  {
   "cell_type": "code",
   "execution_count": 14,
   "id": "c3627073-38b6-468a-b1c6-95e625ef3aa5",
   "metadata": {
    "id": "c3627073-38b6-468a-b1c6-95e625ef3aa5"
   },
   "outputs": [],
   "source": [
    "x1 = np.randn(100)\n",
    "y1 = np.randn(100)\n",
    "\n",
    "x2 = np.randn(100)\n",
    "y2 =np.randn(100)"
   ]
  },
  {
   "cell_type": "code",
   "execution_count": 15,
   "id": "03ced2b3-5c52-4f22-a382-1da34fe2bbda",
   "metadata": {
    "id": "03ced2b3-5c52-4f22-a382-1da34fe2bbda",
    "outputId": "9638cbb8-02cc-4fda-bd5e-081029b3178d"
   },
   "outputs": [
    {
     "data": {
      "image/png": "[encoded data removed]",
      "text/plain": [
       "<Figure size 640x480 with 1 Axes>"
      ]
     },
     "metadata": {},
     "output_type": "display_data"
    }
   ],
   "source": [
    "plt.scatter(x1, y1, c =\"yellow\",linewidths = 2,marker =\"^\", edgecolor =\"red\", s = 20)\n",
    "plt.scatter(x2, y2, c =\"green\",linewidths = 2,marker =\"s\", edgecolor =\"green\", s = 20)\n",
    "plt.xlabel(\"X-axis\")\n",
    "plt.ylabel(\"Y-axis\")\n",
    "plt.show()"
   ]
  },
  {
   "cell_type": "markdown",
   "id": "831bbdcc-65c7-42c7-a725-0d44e990d5e2",
   "metadata": {
    "id": "831bbdcc-65c7-42c7-a725-0d44e990d5e2"
   },
   "source": [
    "### Craete a Dataset using Data Frame which consist of name of the cars and there espective prce in lakhs to plot piechart"
   ]
  },
  {
   "cell_type": "code",
   "execution_count": 16,
   "id": "f6bf32a9-5dfc-40fd-8690-38a757546359",
   "metadata": {
    "id": "f6bf32a9-5dfc-40fd-8690-38a757546359",
    "outputId": "ad2b0264-ad1a-4c06-ea3f-0d03d03c7b3a"
   },
   "outputs": [
    {
     "data": {
      "text/html": [
       "<div>\n",
       "<style scoped>\n",
       "    .dataframe tbody tr th:only-of-type {\n",
       "        vertical-align: middle;\n",
       "    }\n",
       "\n",
       "    .dataframe tbody tr th {\n",
       "        vertical-align: top;\n",
       "    }\n",
       "\n",
       "    .dataframe thead th {\n",
       "        text-align: right;\n",
       "    }\n",
       "</style>\n",
       "<table border=\"1\" class=\"dataframe\">\n",
       "  <thead>\n",
       "    <tr style=\"text-align: right;\">\n",
       "      <th></th>\n",
       "      <th>name</th>\n",
       "      <th>Price</th>\n",
       "    </tr>\n",
       "  </thead>\n",
       "  <tbody>\n",
       "    <tr>\n",
       "      <th>0</th>\n",
       "      <td>Volvo</td>\n",
       "      <td>200000</td>\n",
       "    </tr>\n",
       "    <tr>\n",
       "      <th>1</th>\n",
       "      <td>Audi</td>\n",
       "      <td>340000</td>\n",
       "    </tr>\n",
       "    <tr>\n",
       "      <th>2</th>\n",
       "      <td>Maruti</td>\n",
       "      <td>120000</td>\n",
       "    </tr>\n",
       "    <tr>\n",
       "      <th>3</th>\n",
       "      <td>Ford</td>\n",
       "      <td>252254</td>\n",
       "    </tr>\n",
       "  </tbody>\n",
       "</table>\n",
       "</div>"
      ],
      "text/plain": [
       "     name   Price\n",
       "0   Volvo  200000\n",
       "1    Audi  340000\n",
       "2  Maruti  120000\n",
       "3    Ford  252254"
      ]
     },
     "execution_count": 16,
     "metadata": {},
     "output_type": "execute_result"
    }
   ],
   "source": [
    "df2=pd.DataFrame(\n",
    "    {\n",
    "        \"name\":['Volvo','Audi','Maruti','Ford'],\n",
    "        \"Price\":[200000,340000,120000,252254]\n",
    "    }\n",
    ")\n",
    "df2"
   ]
  },
  {
   "cell_type": "code",
   "execution_count": 17,
   "id": "8f280144-b1b7-4b72-b3f2-f74881253eb4",
   "metadata": {
    "id": "8f280144-b1b7-4b72-b3f2-f74881253eb4",
    "outputId": "43a4901d-375f-4166-8aa3-22208750fc6a"
   },
   "outputs": [
    {
     "data": {
      "text/plain": [
       "Text(0.5, 1.0, 'Car Prices')"
      ]
     },
     "execution_count": 17,
     "metadata": {},
     "output_type": "execute_result"
    },
    {
     "data": {
      "image/png": "[encoded data removed]",
      "text/plain": [
       "<Figure size 640x480 with 1 Axes>"
      ]
     },
     "metadata": {},
     "output_type": "display_data"
    }
   ],
   "source": [
    "plt.pie(df2['Price'],labels=df2[\"name\"],autopct='%1.1f%%',startangle=140)\n",
    "plt.title(\"Car Prices\")"
   ]
  },
  {
   "cell_type": "code",
   "execution_count": null,
   "id": "a26231e3-8637-4d20-99ab-3f9e20eff3c5",
   "metadata": {
    "id": "a26231e3-8637-4d20-99ab-3f9e20eff3c5"
   },
   "outputs": [],
   "source": []
  },
  {
   "cell_type": "code",
   "execution_count": null,
   "id": "b8f9ad8e-7ee0-4168-bbe5-64d564773024",
   "metadata": {},
   "outputs": [],
   "source": []
  },
  {
   "cell_type": "code",
   "execution_count": null,
   "id": "a09982cd-14ca-4460-b9a2-dcd44ff4a2db",
   "metadata": {},
   "outputs": [],
   "source": []
  }
 ],
 "metadata": {
  "colab": {
   "provenance": []
  },
  "kernelspec": {
   "display_name": "Python 3 (ipykernel)",
   "language": "python",
   "name": "python3"
  },
  "language_info": {
   "codemirror_mode": {
    "name": "ipython",
    "version": 3
   },
   "file_extension": ".py",
   "mimetype": "text/x-python",
   "name": "python",
   "nbconvert_exporter": "python",
   "pygments_lexer": "ipython3",
   "version": "3.11.2"
  }
 },
 "nbformat": 4,
 "nbformat_minor": 5
}
