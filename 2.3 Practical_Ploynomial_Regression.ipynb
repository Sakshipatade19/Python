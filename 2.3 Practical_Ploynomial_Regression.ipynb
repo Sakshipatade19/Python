{
 "cells": [
  {
   "cell_type": "code",
   "execution_count": 19,
   "metadata": {
    "id": "rrM3JbxJMz6u"
   },
   "outputs": [],
   "source": [
    "import pandas as pd\n",
    "import numpy as np\n",
    "import matplotlib.pyplot as plt\n",
    "from sklearn.linear_model import LinearRegression\n",
    "from sklearn.preprocessing import PolynomialFeatures\n",
    "from sklearn.model_selection import train_test_split\n",
    "from sklearn.metrics import mean_squared_error,mean_absolute_error,accuracy_score\n",
    "import sklearn.metrics as metrics"
   ]
  },
  {
   "cell_type": "code",
   "execution_count": 20,
   "metadata": {
    "id": "fYA2JVx7NInk"
   },
   "outputs": [],
   "source": [
    "df=pd.read_csv('Data/PolyData.csv')"
   ]
  },
  {
   "cell_type": "code",
   "execution_count": 21,
   "metadata": {
    "colab": {
     "base_uri": "https://localhost:8080/"
    },
    "id": "0iCbmp03NXru",
    "outputId": "ba14c3da-4577-4489-d5d2-3e7267cb8560"
   },
   "outputs": [
    {
     "data": {
      "text/plain": [
       "(200, 3)"
      ]
     },
     "execution_count": 21,
     "metadata": {},
     "output_type": "execute_result"
    }
   ],
   "source": [
    "df.shape"
   ]
  },
  {
   "cell_type": "code",
   "execution_count": 22,
   "metadata": {
    "colab": {
     "base_uri": "https://localhost:8080/",
     "height": 300
    },
    "id": "9u4y1zXpOOk9",
    "outputId": "2f178e23-ac48-4520-fa24-daec300f1902"
   },
   "outputs": [
    {
     "data": {
      "text/html": [
       "<div>\n",
       "<style scoped>\n",
       "    .dataframe tbody tr th:only-of-type {\n",
       "        vertical-align: middle;\n",
       "    }\n",
       "\n",
       "    .dataframe tbody tr th {\n",
       "        vertical-align: top;\n",
       "    }\n",
       "\n",
       "    .dataframe thead th {\n",
       "        text-align: right;\n",
       "    }\n",
       "</style>\n",
       "<table border=\"1\" class=\"dataframe\">\n",
       "  <thead>\n",
       "    <tr style=\"text-align: right;\">\n",
       "      <th></th>\n",
       "      <th>Unnamed: 0</th>\n",
       "      <th>x</th>\n",
       "      <th>y</th>\n",
       "    </tr>\n",
       "  </thead>\n",
       "  <tbody>\n",
       "    <tr>\n",
       "      <th>count</th>\n",
       "      <td>200.000000</td>\n",
       "      <td>200.000000</td>\n",
       "      <td>200.000000</td>\n",
       "    </tr>\n",
       "    <tr>\n",
       "      <th>mean</th>\n",
       "      <td>99.500000</td>\n",
       "      <td>0.048185</td>\n",
       "      <td>4.553311</td>\n",
       "    </tr>\n",
       "    <tr>\n",
       "      <th>std</th>\n",
       "      <td>57.879185</td>\n",
       "      <td>1.740626</td>\n",
       "      <td>2.868315</td>\n",
       "    </tr>\n",
       "    <tr>\n",
       "      <th>min</th>\n",
       "      <td>0.000000</td>\n",
       "      <td>-2.981895</td>\n",
       "      <td>0.093381</td>\n",
       "    </tr>\n",
       "    <tr>\n",
       "      <th>25%</th>\n",
       "      <td>49.750000</td>\n",
       "      <td>-1.451444</td>\n",
       "      <td>2.376499</td>\n",
       "    </tr>\n",
       "    <tr>\n",
       "      <th>50%</th>\n",
       "      <td>99.500000</td>\n",
       "      <td>0.084696</td>\n",
       "      <td>3.722721</td>\n",
       "    </tr>\n",
       "    <tr>\n",
       "      <th>75%</th>\n",
       "      <td>149.250000</td>\n",
       "      <td>1.574805</td>\n",
       "      <td>6.256276</td>\n",
       "    </tr>\n",
       "    <tr>\n",
       "      <th>max</th>\n",
       "      <td>199.000000</td>\n",
       "      <td>2.970836</td>\n",
       "      <td>12.932011</td>\n",
       "    </tr>\n",
       "  </tbody>\n",
       "</table>\n",
       "</div>"
      ],
      "text/plain": [
       "       Unnamed: 0           x           y\n",
       "count  200.000000  200.000000  200.000000\n",
       "mean    99.500000    0.048185    4.553311\n",
       "std     57.879185    1.740626    2.868315\n",
       "min      0.000000   -2.981895    0.093381\n",
       "25%     49.750000   -1.451444    2.376499\n",
       "50%     99.500000    0.084696    3.722721\n",
       "75%    149.250000    1.574805    6.256276\n",
       "max    199.000000    2.970836   12.932011"
      ]
     },
     "execution_count": 22,
     "metadata": {},
     "output_type": "execute_result"
    }
   ],
   "source": [
    "df.describe()"
   ]
  },
  {
   "cell_type": "code",
   "execution_count": 23,
   "metadata": {
    "colab": {
     "base_uri": "https://localhost:8080/",
     "height": 447
    },
    "id": "gL9FkYqHNYRc",
    "outputId": "3517fa8b-1a9a-46d0-80f1-072a3ac1d57e"
   },
   "outputs": [
    {
     "data": {
      "text/plain": [
       "<matplotlib.collections.PathCollection at 0x198a8621790>"
      ]
     },
     "execution_count": 23,
     "metadata": {},
     "output_type": "execute_result"
    },
    {
     "data": {
      "image/png": "[encoded data removed]",
      "text/plain": [
       "<Figure size 640x480 with 1 Axes>"
      ]
     },
     "metadata": {},
     "output_type": "display_data"
    }
   ],
   "source": [
    "plt.scatter(df['x'],df['y'])"
   ]
  },
  {
   "cell_type": "code",
   "execution_count": 24,
   "metadata": {
    "colab": {
     "base_uri": "https://localhost:8080/",
     "height": 424
    },
    "id": "l-C46LcqQfOU",
    "outputId": "2532349d-f704-43bb-ddfa-c54faa7fdd6b"
   },
   "outputs": [],
   "source": [
    "df = df.drop(columns=['Unnamed: 0'], axis=1)"
   ]
  },
  {
   "cell_type": "code",
   "execution_count": 25,
   "metadata": {
    "id": "duX5eM55Ncws"
   },
   "outputs": [],
   "source": [
    "X_train,X_test,y_train,y_test=train_test_split(df.drop('y',axis=1),df['y'],\n",
    "                                               test_size=0.2,\n",
    "                                               random_state=5)"
   ]
  },
  {
   "cell_type": "code",
   "execution_count": 26,
   "metadata": {
    "colab": {
     "base_uri": "https://localhost:8080/",
     "height": 75
    },
    "id": "9QtuMRPAOjKb",
    "outputId": "9ea68787-d696-4e74-9456-2cbebeb1a3ef"
   },
   "outputs": [
    {
     "data": {
      "text/html": [
       "<style>#sk-container-id-3 {color: black;background-color: white;}#sk-container-id-3 pre{padding: 0;}#sk-container-id-3 div.sk-toggleable {background-color: white;}#sk-container-id-3 label.sk-toggleable__label {cursor: pointer;display: block;width: 100%;margin-bottom: 0;padding: 0.3em;box-sizing: border-box;text-align: center;}#sk-container-id-3 label.sk-toggleable__label-arrow:before {content: \"▸\";float: left;margin-right: 0.25em;color: #696969;}#sk-container-id-3 label.sk-toggleable__label-arrow:hover:before {color: black;}#sk-container-id-3 div.sk-estimator:hover label.sk-toggleable__label-arrow:before {color: black;}#sk-container-id-3 div.sk-toggleable__content {max-height: 0;max-width: 0;overflow: hidden;text-align: left;background-color: #f0f8ff;}#sk-container-id-3 div.sk-toggleable__content pre {margin: 0.2em;color: black;border-radius: 0.25em;background-color: #f0f8ff;}#sk-container-id-3 input.sk-toggleable__control:checked~div.sk-toggleable__content {max-height: 200px;max-width: 100%;overflow: auto;}#sk-container-id-3 input.sk-toggleable__control:checked~label.sk-toggleable__label-arrow:before {content: \"▾\";}#sk-container-id-3 div.sk-estimator input.sk-toggleable__control:checked~label.sk-toggleable__label {background-color: #d4ebff;}#sk-container-id-3 div.sk-label input.sk-toggleable__control:checked~label.sk-toggleable__label {background-color: #d4ebff;}#sk-container-id-3 input.sk-hidden--visually {border: 0;clip: rect(1px 1px 1px 1px);clip: rect(1px, 1px, 1px, 1px);height: 1px;margin: -1px;overflow: hidden;padding: 0;position: absolute;width: 1px;}#sk-container-id-3 div.sk-estimator {font-family: monospace;background-color: #f0f8ff;border: 1px dotted black;border-radius: 0.25em;box-sizing: border-box;margin-bottom: 0.5em;}#sk-container-id-3 div.sk-estimator:hover {background-color: #d4ebff;}#sk-container-id-3 div.sk-parallel-item::after {content: \"\";width: 100%;border-bottom: 1px solid gray;flex-grow: 1;}#sk-container-id-3 div.sk-label:hover label.sk-toggleable__label {background-color: #d4ebff;}#sk-container-id-3 div.sk-serial::before {content: \"\";position: absolute;border-left: 1px solid gray;box-sizing: border-box;top: 0;bottom: 0;left: 50%;z-index: 0;}#sk-container-id-3 div.sk-serial {display: flex;flex-direction: column;align-items: center;background-color: white;padding-right: 0.2em;padding-left: 0.2em;position: relative;}#sk-container-id-3 div.sk-item {position: relative;z-index: 1;}#sk-container-id-3 div.sk-parallel {display: flex;align-items: stretch;justify-content: center;background-color: white;position: relative;}#sk-container-id-3 div.sk-item::before, #sk-container-id-3 div.sk-parallel-item::before {content: \"\";position: absolute;border-left: 1px solid gray;box-sizing: border-box;top: 0;bottom: 0;left: 50%;z-index: -1;}#sk-container-id-3 div.sk-parallel-item {display: flex;flex-direction: column;z-index: 1;position: relative;background-color: white;}#sk-container-id-3 div.sk-parallel-item:first-child::after {align-self: flex-end;width: 50%;}#sk-container-id-3 div.sk-parallel-item:last-child::after {align-self: flex-start;width: 50%;}#sk-container-id-3 div.sk-parallel-item:only-child::after {width: 0;}#sk-container-id-3 div.sk-dashed-wrapped {border: 1px dashed gray;margin: 0 0.4em 0.5em 0.4em;box-sizing: border-box;padding-bottom: 0.4em;background-color: white;}#sk-container-id-3 div.sk-label label {font-family: monospace;font-weight: bold;display: inline-block;line-height: 1.2em;}#sk-container-id-3 div.sk-label-container {text-align: center;}#sk-container-id-3 div.sk-container {/* jupyter's `normalize.less` sets `[hidden] { display: none; }` but bootstrap.min.css set `[hidden] { display: none !important; }` so we also need the `!important` here to be able to override the default hidden behavior on the sphinx rendered scikit-learn.org. See: https://github.com/scikit-learn/scikit-learn/issues/21755 */display: inline-block !important;position: relative;}#sk-container-id-3 div.sk-text-repr-fallback {display: none;}</style><div id=\"sk-container-id-3\" class=\"sk-top-container\"><div class=\"sk-text-repr-fallback\"><pre>LinearRegression()</pre><b>In a Jupyter environment, please rerun this cell to show the HTML representation or trust the notebook. <br />On GitHub, the HTML representation is unable to render, please try loading this page with nbviewer.org.</b></div><div class=\"sk-container\" hidden><div class=\"sk-item\"><div class=\"sk-estimator sk-toggleable\"><input class=\"sk-toggleable__control sk-hidden--visually\" id=\"sk-estimator-id-3\" type=\"checkbox\" checked><label for=\"sk-estimator-id-3\" class=\"sk-toggleable__label sk-toggleable__label-arrow\">LinearRegression</label><div class=\"sk-toggleable__content\"><pre>LinearRegression()</pre></div></div></div></div></div>"
      ],
      "text/plain": [
       "LinearRegression()"
      ]
     },
     "execution_count": 26,
     "metadata": {},
     "output_type": "execute_result"
    }
   ],
   "source": [
    "lr=LinearRegression()\n",
    "lr.fit(X_train,y_train)"
   ]
  },
  {
   "cell_type": "code",
   "execution_count": 27,
   "metadata": {
    "colab": {
     "base_uri": "https://localhost:8080/"
    },
    "id": "IKfWavKrQExo",
    "outputId": "9150c52e-b582-40d7-f3da-9292dca1432c"
   },
   "outputs": [],
   "source": [
    "lr.coef_\n",
    "y_pred=lr.predict(X_test)"
   ]
  },
  {
   "cell_type": "code",
   "execution_count": 28,
   "metadata": {},
   "outputs": [
    {
     "data": {
      "image/png": "[encoded data removed]",
      "text/plain": [
       "<Figure size 640x480 with 1 Axes>"
      ]
     },
     "metadata": {},
     "output_type": "display_data"
    }
   ],
   "source": [
    "\n",
    "plt.scatter(df['x'], df['y'], color='blue', label='Actual data')\n",
    "plt.plot(X_test, y_pred, color='red', linewidth=2, label='Regression line')\n",
    "plt.xlabel('x')\n",
    "plt.ylabel('y')\n",
    "plt.title('Regression Line on Actual Data')\n",
    "plt.legend()\n",
    "plt.show()\n"
   ]
  },
  {
   "cell_type": "code",
   "execution_count": 29,
   "metadata": {
    "colab": {
     "base_uri": "https://localhost:8080/"
    },
    "id": "-A0DbvygOyHM",
    "outputId": "577dda9e-cabc-4ef0-88a4-4d2bda84f0b4"
   },
   "outputs": [
    {
     "name": "stdout",
     "output_type": "stream",
     "text": [
      "6.889254671361425\n",
      "2.196254716311203\n",
      "2.6247389720430157\n",
      "0.3322030024235859\n"
     ]
    }
   ],
   "source": [
    "y_pred=lr.predict(X_test)\n",
    "mse=mean_squared_error(y_test,y_pred)\n",
    "mae=mean_absolute_error(y_test,y_pred)\n",
    "rmse = np.sqrt(mse)\n",
    "r2 = metrics.r2_score(y_test,y_pred)\n",
    "\n",
    "print(mse)\n",
    "print(mae)\n",
    "print(rmse)\n",
    "print(r2)"
   ]
  },
  {
   "cell_type": "markdown",
   "metadata": {},
   "source": [
    "### Creating Polynomial Features"
   ]
  },
  {
   "cell_type": "code",
   "execution_count": 13,
   "metadata": {
    "colab": {
     "base_uri": "https://localhost:8080/"
    },
    "id": "F9ye4-5UPLjc",
    "outputId": "b6140886-333e-4a67-dd9e-70f1db58c58d",
    "scrolled": true
   },
   "outputs": [
    {
     "data": {
      "text/plain": [
       "array([[ 1.00000000e+00, -2.16618885e-01,  4.69237415e-02,\n",
       "        -1.01645686e-02],\n",
       "       [ 1.00000000e+00,  2.94549332e+00,  8.67593089e+00,\n",
       "         2.55548965e+01],\n",
       "       [ 1.00000000e+00, -2.81807687e+00,  7.94155723e+00,\n",
       "        -2.23799187e+01],\n",
       "       [ 1.00000000e+00, -1.64173663e+00,  2.69529916e+00,\n",
       "        -4.42497136e+00],\n",
       "       [ 1.00000000e+00,  2.00467439e-01,  4.01871942e-02,\n",
       "         8.05622391e-03],\n",
       "       [ 1.00000000e+00,  1.17236292e+00,  1.37443481e+00,\n",
       "         1.61133641e+00],\n",
       "       [ 1.00000000e+00,  1.17163483e+00,  1.37272817e+00,\n",
       "         1.60833614e+00],\n",
       "       [ 1.00000000e+00, -1.89748867e+00,  3.60046324e+00,\n",
       "        -6.83183819e+00],\n",
       "       [ 1.00000000e+00,  1.65277113e+00,  2.73165240e+00,\n",
       "         4.51479623e+00],\n",
       "       [ 1.00000000e+00, -5.78914696e-01,  3.35142226e-01,\n",
       "        -1.94018760e-01],\n",
       "       [ 1.00000000e+00, -2.69239817e+00,  7.24900788e+00,\n",
       "        -1.95172155e+01],\n",
       "       [ 1.00000000e+00, -1.94059635e-01,  3.76591419e-02,\n",
       "        -7.30811933e-03],\n",
       "       [ 1.00000000e+00,  3.29903655e-01,  1.08836421e-01,\n",
       "         3.59055331e-02],\n",
       "       [ 1.00000000e+00, -1.48787623e+00,  2.21377567e+00,\n",
       "        -3.29382419e+00],\n",
       "       [ 1.00000000e+00,  1.10719656e+00,  1.22588422e+00,\n",
       "         1.35729479e+00],\n",
       "       [ 1.00000000e+00,  5.74966204e-02,  3.30586136e-03,\n",
       "         1.90075856e-04],\n",
       "       [ 1.00000000e+00, -2.25624085e-01,  5.09062279e-02,\n",
       "        -1.14856711e-02],\n",
       "       [ 1.00000000e+00, -1.02557489e+00,  1.05180386e+00,\n",
       "        -1.07870363e+00],\n",
       "       [ 1.00000000e+00, -1.75170988e-02,  3.06848750e-04,\n",
       "        -5.37509988e-06],\n",
       "       [ 1.00000000e+00,  2.63191955e+00,  6.92700053e+00,\n",
       "         1.82313081e+01],\n",
       "       [ 1.00000000e+00,  1.92119447e-01,  3.69098820e-02,\n",
       "         7.09110612e-03],\n",
       "       [ 1.00000000e+00, -2.57109020e+00,  6.61050479e+00,\n",
       "        -1.69962041e+01],\n",
       "       [ 1.00000000e+00,  1.96690461e+00,  3.86871376e+00,\n",
       "         7.60939095e+00],\n",
       "       [ 1.00000000e+00, -1.56992791e+00,  2.46467366e+00,\n",
       "        -3.86935997e+00],\n",
       "       [ 1.00000000e+00, -2.00419428e+00,  4.01679470e+00,\n",
       "        -8.05043695e+00],\n",
       "       [ 1.00000000e+00, -2.39716579e+00,  5.74640381e+00,\n",
       "        -1.37750826e+01],\n",
       "       [ 1.00000000e+00,  2.81167220e+00,  7.90550059e+00,\n",
       "         2.22276763e+01],\n",
       "       [ 1.00000000e+00, -2.96758219e+00,  8.80654407e+00,\n",
       "        -2.61341433e+01],\n",
       "       [ 1.00000000e+00, -1.08088635e+00,  1.16831531e+00,\n",
       "        -1.26281607e+00],\n",
       "       [ 1.00000000e+00,  1.38754607e-02,  1.92528409e-04,\n",
       "         2.67142038e-06],\n",
       "       [ 1.00000000e+00,  3.04940113e-02,  9.29884724e-04,\n",
       "         2.83559153e-05],\n",
       "       [ 1.00000000e+00,  1.52371286e-01,  2.32170088e-02,\n",
       "         3.53760549e-03],\n",
       "       [ 1.00000000e+00, -1.85791822e+00,  3.45186013e+00,\n",
       "        -6.41327385e+00],\n",
       "       [ 1.00000000e+00,  4.71924981e-02,  2.22713188e-03,\n",
       "         1.05103917e-04],\n",
       "       [ 1.00000000e+00,  1.35786859e+00,  1.84380711e+00,\n",
       "         2.50364777e+00],\n",
       "       [ 1.00000000e+00,  9.81600974e-01,  9.63540473e-01,\n",
       "         9.45812267e-01],\n",
       "       [ 1.00000000e+00, -1.64962214e+00,  2.72125322e+00,\n",
       "        -4.48903957e+00],\n",
       "       [ 1.00000000e+00, -2.70560740e-01,  7.32031139e-02,\n",
       "        -1.98058886e-02],\n",
       "       [ 1.00000000e+00,  2.76417427e+00,  7.64065938e+00,\n",
       "         2.11201140e+01],\n",
       "       [ 1.00000000e+00,  2.19825639e+00,  4.83233115e+00,\n",
       "         1.06227028e+01],\n",
       "       [ 1.00000000e+00, -2.17724960e+00,  4.74041582e+00,\n",
       "        -1.03210684e+01],\n",
       "       [ 1.00000000e+00,  2.12858505e+00,  4.53087433e+00,\n",
       "         9.64435137e+00],\n",
       "       [ 1.00000000e+00, -3.54552328e-01,  1.25707353e-01,\n",
       "        -4.45698347e-02],\n",
       "       [ 1.00000000e+00, -2.81043096e-01,  7.89852221e-02,\n",
       "        -2.21982514e-02],\n",
       "       [ 1.00000000e+00,  2.39222505e+00,  5.72274071e+00,\n",
       "         1.36900837e+01],\n",
       "       [ 1.00000000e+00, -1.88161656e+00,  3.54048087e+00,\n",
       "        -6.66182742e+00],\n",
       "       [ 1.00000000e+00, -1.12136248e+00,  1.25745380e+00,\n",
       "        -1.41006151e+00],\n",
       "       [ 1.00000000e+00, -1.85094718e+00,  3.42600548e+00,\n",
       "        -6.34135519e+00],\n",
       "       [ 1.00000000e+00, -2.28695252e+00,  5.23015184e+00,\n",
       "        -1.19611090e+01],\n",
       "       [ 1.00000000e+00,  8.93202524e-02,  7.97810749e-03,\n",
       "         7.12606574e-04],\n",
       "       [ 1.00000000e+00, -2.70378458e+00,  7.31045107e+00,\n",
       "        -1.97658849e+01],\n",
       "       [ 1.00000000e+00,  2.85723434e+00,  8.16378810e+00,\n",
       "         2.33258557e+01],\n",
       "       [ 1.00000000e+00,  2.25603118e+00,  5.08967671e+00,\n",
       "         1.14824694e+01],\n",
       "       [ 1.00000000e+00, -2.66544307e+00,  7.10458674e+00,\n",
       "        -1.89368715e+01],\n",
       "       [ 1.00000000e+00,  2.76725434e+00,  7.65769659e+00,\n",
       "         2.11907941e+01],\n",
       "       [ 1.00000000e+00, -1.80253089e+00,  3.24911761e+00,\n",
       "        -5.85663486e+00],\n",
       "       [ 1.00000000e+00, -6.76879870e-01,  4.58166358e-01,\n",
       "        -3.10123584e-01],\n",
       "       [ 1.00000000e+00, -1.54070793e+00,  2.37378093e+00,\n",
       "        -3.65730311e+00],\n",
       "       [ 1.00000000e+00, -2.74492653e+00,  7.53462163e+00,\n",
       "        -2.06819828e+01],\n",
       "       [ 1.00000000e+00, -1.63240279e+00,  2.66473888e+00,\n",
       "        -4.34992718e+00],\n",
       "       [ 1.00000000e+00,  1.31528665e+00,  1.72997896e+00,\n",
       "         2.27541822e+00],\n",
       "       [ 1.00000000e+00,  2.53381648e+00,  6.42022594e+00,\n",
       "         1.62676743e+01],\n",
       "       [ 1.00000000e+00,  1.89689498e+00,  3.59821055e+00,\n",
       "         6.82542753e+00],\n",
       "       [ 1.00000000e+00, -1.99035899e+00,  3.96152890e+00,\n",
       "        -7.88486465e+00],\n",
       "       [ 1.00000000e+00,  2.14494982e+00,  4.60080974e+00,\n",
       "         9.86850603e+00],\n",
       "       [ 1.00000000e+00,  4.81708818e-01,  2.32043386e-01,\n",
       "         1.11777345e-01],\n",
       "       [ 1.00000000e+00,  1.14501198e+00,  1.31105243e+00,\n",
       "         1.50117073e+00],\n",
       "       [ 1.00000000e+00,  3.78841892e-01,  1.43521179e-01,\n",
       "         5.43718349e-02],\n",
       "       [ 1.00000000e+00, -1.33428301e+00,  1.78031116e+00,\n",
       "        -2.37543893e+00],\n",
       "       [ 1.00000000e+00,  1.39048028e-01,  1.93343542e-02,\n",
       "         2.68840383e-03],\n",
       "       [ 1.00000000e+00,  1.17138108e+00,  1.37213363e+00,\n",
       "         1.60729137e+00],\n",
       "       [ 1.00000000e+00, -1.33321104e+00,  1.77745167e+00,\n",
       "        -2.36971818e+00],\n",
       "       [ 1.00000000e+00,  2.96018340e+00,  8.76268576e+00,\n",
       "         2.59391569e+01],\n",
       "       [ 1.00000000e+00,  2.27094502e+00,  5.15719130e+00,\n",
       "         1.17116979e+01],\n",
       "       [ 1.00000000e+00,  2.09783587e+00,  4.40091534e+00,\n",
       "         9.23239806e+00],\n",
       "       [ 1.00000000e+00,  1.00310202e+00,  1.00621365e+00,\n",
       "         1.00933494e+00],\n",
       "       [ 1.00000000e+00,  4.72816214e-01,  2.23555172e-01,\n",
       "         1.05700510e-01],\n",
       "       [ 1.00000000e+00, -1.23442134e-01,  1.52379606e-02,\n",
       "        -1.88100638e-03],\n",
       "       [ 1.00000000e+00,  2.54049848e+00,  6.45413254e+00,\n",
       "         1.63967139e+01],\n",
       "       [ 1.00000000e+00,  7.01251156e-01,  4.91753184e-01,\n",
       "         3.44842488e-01],\n",
       "       [ 1.00000000e+00, -1.19420820e+00,  1.42613322e+00,\n",
       "        -1.70309998e+00],\n",
       "       [ 1.00000000e+00,  2.93711260e+00,  8.62663042e+00,\n",
       "         2.53373849e+01],\n",
       "       [ 1.00000000e+00,  1.75029960e+00,  3.06354871e+00,\n",
       "         5.36212809e+00],\n",
       "       [ 1.00000000e+00,  2.52956045e+00,  6.39867610e+00,\n",
       "         1.61858380e+01],\n",
       "       [ 1.00000000e+00, -2.68230559e+00,  7.19476328e+00,\n",
       "        -1.92985538e+01],\n",
       "       [ 1.00000000e+00,  3.00302134e-01,  9.01813720e-02,\n",
       "         2.70816585e-02],\n",
       "       [ 1.00000000e+00,  1.96672577e+00,  3.86801026e+00,\n",
       "         7.60731547e+00],\n",
       "       [ 1.00000000e+00,  1.70901138e+00,  2.92071990e+00,\n",
       "         4.99154356e+00],\n",
       "       [ 1.00000000e+00,  2.02793392e+00,  4.11251598e+00,\n",
       "         8.33991065e+00],\n",
       "       [ 1.00000000e+00, -1.09232467e-01,  1.19317318e-02,\n",
       "        -1.30333249e-03],\n",
       "       [ 1.00000000e+00, -1.46270425e+00,  2.13950372e+00,\n",
       "        -3.12946119e+00],\n",
       "       [ 1.00000000e+00, -4.91823562e-01,  2.41890416e-01,\n",
       "        -1.18967406e-01],\n",
       "       [ 1.00000000e+00, -1.49267435e+00,  2.22807672e+00,\n",
       "        -3.32579296e+00],\n",
       "       [ 1.00000000e+00,  1.07549973e+00,  1.15669966e+00,\n",
       "         1.24403018e+00],\n",
       "       [ 1.00000000e+00, -5.87660964e-01,  3.45345408e-01,\n",
       "        -2.02946016e-01],\n",
       "       [ 1.00000000e+00, -3.72478478e-02,  1.38740216e-03,\n",
       "        -5.16777446e-05],\n",
       "       [ 1.00000000e+00,  4.94736955e-01,  2.44764655e-01,\n",
       "         1.21094120e-01],\n",
       "       [ 1.00000000e+00,  2.46737812e-01,  6.08795477e-02,\n",
       "         1.50212864e-02],\n",
       "       [ 1.00000000e+00,  2.00454836e+00,  4.01821414e+00,\n",
       "         8.05470459e+00],\n",
       "       [ 1.00000000e+00, -1.96753227e+00,  3.87118324e+00,\n",
       "        -7.61667796e+00],\n",
       "       [ 1.00000000e+00,  3.18646287e-01,  1.01535456e-01,\n",
       "         3.23538960e-02],\n",
       "       [ 1.00000000e+00, -2.98189535e+00,  8.89169989e+00,\n",
       "        -2.65141186e+01],\n",
       "       [ 1.00000000e+00, -2.65951523e+00,  7.07302124e+00,\n",
       "        -1.88108077e+01],\n",
       "       [ 1.00000000e+00,  1.94617466e+00,  3.78759581e+00,\n",
       "         7.37132298e+00],\n",
       "       [ 1.00000000e+00, -2.86699511e+00,  8.21966098e+00,\n",
       "        -2.35657279e+01],\n",
       "       [ 1.00000000e+00, -1.21471170e+00,  1.47552450e+00,\n",
       "        -1.79233687e+00],\n",
       "       [ 1.00000000e+00,  5.62272854e-01,  3.16150762e-01,\n",
       "         1.77762991e-01],\n",
       "       [ 1.00000000e+00,  2.63313143e+00,  6.93338115e+00,\n",
       "         1.82565038e+01],\n",
       "       [ 1.00000000e+00, -2.04577397e+00,  4.18519112e+00,\n",
       "        -8.56195504e+00],\n",
       "       [ 1.00000000e+00,  2.97083570e+00,  8.82586477e+00,\n",
       "         2.62201942e+01],\n",
       "       [ 1.00000000e+00, -1.44769041e+00,  2.09580751e+00,\n",
       "        -3.03408043e+00],\n",
       "       [ 1.00000000e+00, -2.53354700e+00,  6.41886043e+00,\n",
       "        -1.62624846e+01],\n",
       "       [ 1.00000000e+00,  2.72250931e+00,  7.41205694e+00,\n",
       "         2.01793940e+01],\n",
       "       [ 1.00000000e+00,  1.07450318e+00,  1.15455708e+00,\n",
       "         1.24057525e+00],\n",
       "       [ 1.00000000e+00,  4.00734694e-01,  1.60588295e-01,\n",
       "         6.43533012e-02],\n",
       "       [ 1.00000000e+00,  1.19168384e-01,  1.42011037e-02,\n",
       "         1.69232258e-03],\n",
       "       [ 1.00000000e+00,  2.50533033e+00,  6.27668008e+00,\n",
       "         1.57251570e+01],\n",
       "       [ 1.00000000e+00, -3.11491033e-02,  9.70266637e-04,\n",
       "        -3.02229357e-05],\n",
       "       [ 1.00000000e+00,  2.59071523e+00,  6.71180542e+00,\n",
       "         1.73883765e+01],\n",
       "       [ 1.00000000e+00, -9.96868525e-01,  9.93746856e-01,\n",
       "        -9.90634962e-01],\n",
       "       [ 1.00000000e+00, -2.96016635e+00,  8.76258484e+00,\n",
       "        -2.59387088e+01],\n",
       "       [ 1.00000000e+00,  2.26573103e+00,  5.13353710e+00,\n",
       "         1.16312143e+01],\n",
       "       [ 1.00000000e+00, -2.02046144e+00,  4.08226443e+00,\n",
       "        -8.24805787e+00],\n",
       "       [ 1.00000000e+00,  1.19693399e+00,  1.43265096e+00,\n",
       "         1.71478863e+00],\n",
       "       [ 1.00000000e+00,  8.00709784e-02,  6.41136158e-03,\n",
       "         5.13363994e-04],\n",
       "       [ 1.00000000e+00, -2.20128052e+00,  4.84563591e+00,\n",
       "        -1.06666039e+01],\n",
       "       [ 1.00000000e+00,  1.12964345e+00,  1.27609432e+00,\n",
       "         1.44153158e+00],\n",
       "       [ 1.00000000e+00, -2.56329116e+00,  6.57046157e+00,\n",
       "        -1.68420060e+01],\n",
       "       [ 1.00000000e+00, -9.15094199e-01,  8.37397393e-01,\n",
       "        -7.66297496e-01],\n",
       "       [ 1.00000000e+00, -1.79047418e+00,  3.20579779e+00,\n",
       "        -5.73989817e+00],\n",
       "       [ 1.00000000e+00,  6.54549500e-01,  4.28435048e-01,\n",
       "         2.80431946e-01],\n",
       "       [ 1.00000000e+00, -2.92014856e+00,  8.52726759e+00,\n",
       "        -2.49008881e+01],\n",
       "       [ 1.00000000e+00, -1.06857033e+00,  1.14184255e+00,\n",
       "        -1.22013907e+00],\n",
       "       [ 1.00000000e+00, -1.44356138e+00,  2.08386945e+00,\n",
       "        -3.00819345e+00],\n",
       "       [ 1.00000000e+00, -1.44257287e+00,  2.08101648e+00,\n",
       "        -3.00201791e+00],\n",
       "       [ 1.00000000e+00,  1.56293553e+00,  2.44276747e+00,\n",
       "         3.81788808e+00],\n",
       "       [ 1.00000000e+00, -2.07699325e+00,  4.31390095e+00,\n",
       "        -8.95994315e+00],\n",
       "       [ 1.00000000e+00,  2.25457780e+00,  5.08312105e+00,\n",
       "         1.14602919e+01],\n",
       "       [ 1.00000000e+00, -1.61108996e-01,  2.59561085e-02,\n",
       "        -4.18176258e-03],\n",
       "       [ 1.00000000e+00,  1.18284171e+00,  1.39911451e+00,\n",
       "         1.65493100e+00],\n",
       "       [ 1.00000000e+00,  2.33284921e+00,  5.44218545e+00,\n",
       "         1.26957980e+01],\n",
       "       [ 1.00000000e+00,  1.61041236e+00,  2.59342797e+00,\n",
       "         4.17648845e+00],\n",
       "       [ 1.00000000e+00, -1.20674133e+00,  1.45622464e+00,\n",
       "        -1.75728645e+00],\n",
       "       [ 1.00000000e+00,  3.80098944e-01,  1.44475207e-01,\n",
       "         5.49148735e-02],\n",
       "       [ 1.00000000e+00, -2.39936810e+00,  5.75696726e+00,\n",
       "        -1.38130836e+01],\n",
       "       [ 1.00000000e+00,  1.44585189e-01,  2.09048770e-02,\n",
       "         3.02253559e-03],\n",
       "       [ 1.00000000e+00, -2.12271772e+00,  4.50593051e+00,\n",
       "        -9.56481854e+00],\n",
       "       [ 1.00000000e+00,  2.63067790e+00,  6.92046620e+00,\n",
       "         1.82055175e+01],\n",
       "       [ 1.00000000e+00,  1.65578357e-01,  2.74161923e-02,\n",
       "         4.53952808e-03],\n",
       "       [ 1.00000000e+00,  1.27236934e+00,  1.61892373e+00,\n",
       "         2.05986891e+00],\n",
       "       [ 1.00000000e+00, -1.14458856e+00,  1.31008298e+00,\n",
       "        -1.49950600e+00],\n",
       "       [ 1.00000000e+00,  2.75559723e+00,  7.59331608e+00,\n",
       "         2.09241207e+01],\n",
       "       [ 1.00000000e+00, -7.85048707e-01,  6.16301472e-01,\n",
       "        -4.83826673e-01],\n",
       "       [ 1.00000000e+00, -4.17780189e-01,  1.74540286e-01,\n",
       "        -7.29194739e-02],\n",
       "       [ 1.00000000e+00,  2.58691083e+00,  6.69210767e+00,\n",
       "         1.73118858e+01],\n",
       "       [ 1.00000000e+00,  1.83247859e+00,  3.35797779e+00,\n",
       "         6.15342240e+00],\n",
       "       [ 1.00000000e+00,  6.76753631e-01,  4.57995477e-01,\n",
       "         3.09950102e-01],\n",
       "       [ 1.00000000e+00,  6.17666275e-01,  3.81511627e-01,\n",
       "         2.35646865e-01],\n",
       "       [ 1.00000000e+00, -1.96553611e+00,  3.86333220e+00,\n",
       "        -7.59351896e+00],\n",
       "       [ 1.00000000e+00, -1.64810501e+00,  2.71625012e+00,\n",
       "        -4.47666543e+00],\n",
       "       [ 1.00000000e+00, -2.69920704e+00,  7.28571862e+00,\n",
       "        -1.96656629e+01],\n",
       "       [ 1.00000000e+00,  2.59482201e+00,  6.73310126e+00,\n",
       "         1.74711993e+01],\n",
       "       [ 1.00000000e+00, -4.86115590e-01,  2.36308367e-01,\n",
       "        -1.14873181e-01],\n",
       "       [ 1.00000000e+00,  3.14118182e-01,  9.86702322e-02,\n",
       "         3.09941139e-02],\n",
       "       [ 1.00000000e+00, -1.54695439e+00,  2.39306790e+00,\n",
       "        -3.70196690e+00],\n",
       "       [ 1.00000000e+00,  1.02113539e-01,  1.04271748e-02,\n",
       "         1.06475571e-03],\n",
       "       [ 1.00000000e+00,  2.52973067e+00,  6.39953724e+00,\n",
       "         1.61891056e+01],\n",
       "       [ 1.00000000e+00,  7.14956688e-01,  5.11163066e-01,\n",
       "         3.65459452e-01],\n",
       "       [ 1.00000000e+00,  2.01546610e+00,  4.06210358e+00,\n",
       "         8.18703205e+00],\n",
       "       [ 1.00000000e+00, -1.61490568e+00,  2.60792037e+00,\n",
       "        -4.21154543e+00],\n",
       "       [ 1.00000000e+00,  1.15799916e+00,  1.34096205e+00,\n",
       "         1.55283292e+00],\n",
       "       [ 1.00000000e+00, -1.40770682e+00,  1.98163849e+00,\n",
       "        -2.78956601e+00],\n",
       "       [ 1.00000000e+00, -5.90598787e-01,  3.48806927e-01,\n",
       "        -2.06004948e-01],\n",
       "       [ 1.00000000e+00, -1.99321184e+00,  3.97289344e+00,\n",
       "        -7.91881823e+00],\n",
       "       [ 1.00000000e+00, -7.49489578e-01,  5.61734627e-01,\n",
       "        -4.21014248e-01],\n",
       "       [ 1.00000000e+00, -7.59920116e-01,  5.77478583e-01,\n",
       "        -4.38837592e-01],\n",
       "       [ 1.00000000e+00,  4.64023831e-01,  2.15318116e-01,\n",
       "         9.99127369e-02],\n",
       "       [ 1.00000000e+00,  2.20201499e+00,  4.84887000e+00,\n",
       "         1.06772844e+01],\n",
       "       [ 1.00000000e+00, -1.19101984e+00,  1.41852827e+00,\n",
       "        -1.68949531e+00],\n",
       "       [ 1.00000000e+00, -7.38843892e-01,  5.45890297e-01,\n",
       "        -4.03327712e-01],\n",
       "       [ 1.00000000e+00, -1.04801514e+00,  1.09833573e+00,\n",
       "        -1.15107247e+00],\n",
       "       [ 1.00000000e+00,  1.10310204e+00,  1.21683410e+00,\n",
       "         1.34229218e+00],\n",
       "       [ 1.00000000e+00,  2.84510435e-01,  8.09461877e-02,\n",
       "         2.30300351e-02],\n",
       "       [ 1.00000000e+00, -3.61286422e-01,  1.30527879e-01,\n",
       "        -4.71579504e-02],\n",
       "       [ 1.00000000e+00,  5.99763570e-01,  3.59716340e-01,\n",
       "         2.15744757e-01],\n",
       "       [ 1.00000000e+00, -1.23666792e+00,  1.52934755e+00,\n",
       "        -1.89129506e+00],\n",
       "       [ 1.00000000e+00,  7.64559265e-01,  5.84550869e-01,\n",
       "         4.46923783e-01],\n",
       "       [ 1.00000000e+00,  1.03129846e+00,  1.06357652e+00,\n",
       "         1.09686483e+00],\n",
       "       [ 1.00000000e+00,  2.15827583e+00,  4.65815456e+00,\n",
       "         1.00535824e+01],\n",
       "       [ 1.00000000e+00,  2.09366682e+00,  4.38344075e+00,\n",
       "         9.17746445e+00],\n",
       "       [ 1.00000000e+00,  2.67614295e+00,  7.16174112e+00,\n",
       "         1.91658430e+01],\n",
       "       [ 1.00000000e+00,  2.74634659e+00,  7.54241958e+00,\n",
       "         2.07140983e+01],\n",
       "       [ 1.00000000e+00,  2.40524100e-01,  5.78518427e-02,\n",
       "         1.39147624e-02],\n",
       "       [ 1.00000000e+00, -2.67755947e+00,  7.16932471e+00,\n",
       "        -1.91962933e+01],\n",
       "       [ 1.00000000e+00, -9.40242768e-01,  8.84056462e-01,\n",
       "        -8.31227695e-01],\n",
       "       [ 1.00000000e+00,  5.79979464e-02,  3.36376179e-03,\n",
       "         1.95091276e-04],\n",
       "       [ 1.00000000e+00, -2.93663027e+00,  8.62379736e+00,\n",
       "        -2.53249044e+01],\n",
       "       [ 1.00000000e+00,  2.64479218e+00,  6.99492570e+00,\n",
       "         1.85001248e+01],\n",
       "       [ 1.00000000e+00,  2.00953960e+00,  4.03824942e+00,\n",
       "         8.11502214e+00],\n",
       "       [ 1.00000000e+00, -1.91639498e+00,  3.67256973e+00,\n",
       "        -7.03809421e+00]])"
      ]
     },
     "execution_count": 13,
     "metadata": {},
     "output_type": "execute_result"
    }
   ],
   "source": [
    "x=df['x'].values.reshape(-1,1)\n",
    "y=df['y'].values.reshape(-1,1)\n",
    "poly=PolynomialFeatures(degree=3)   # degreee is hyperparameter\n",
    "X_poly=poly.fit_transform(x)\n",
    "X_poly"
   ]
  },
  {
   "cell_type": "code",
   "execution_count": 14,
   "metadata": {
    "colab": {
     "base_uri": "https://localhost:8080/",
     "height": 75
    },
    "id": "f2-aC9WYPYgz",
    "outputId": "95639448-19c9-4715-e6e2-74c40c14fc51"
   },
   "outputs": [
    {
     "data": {
      "text/html": [
       "<style>#sk-container-id-2 {color: black;background-color: white;}#sk-container-id-2 pre{padding: 0;}#sk-container-id-2 div.sk-toggleable {background-color: white;}#sk-container-id-2 label.sk-toggleable__label {cursor: pointer;display: block;width: 100%;margin-bottom: 0;padding: 0.3em;box-sizing: border-box;text-align: center;}#sk-container-id-2 label.sk-toggleable__label-arrow:before {content: \"▸\";float: left;margin-right: 0.25em;color: #696969;}#sk-container-id-2 label.sk-toggleable__label-arrow:hover:before {color: black;}#sk-container-id-2 div.sk-estimator:hover label.sk-toggleable__label-arrow:before {color: black;}#sk-container-id-2 div.sk-toggleable__content {max-height: 0;max-width: 0;overflow: hidden;text-align: left;background-color: #f0f8ff;}#sk-container-id-2 div.sk-toggleable__content pre {margin: 0.2em;color: black;border-radius: 0.25em;background-color: #f0f8ff;}#sk-container-id-2 input.sk-toggleable__control:checked~div.sk-toggleable__content {max-height: 200px;max-width: 100%;overflow: auto;}#sk-container-id-2 input.sk-toggleable__control:checked~label.sk-toggleable__label-arrow:before {content: \"▾\";}#sk-container-id-2 div.sk-estimator input.sk-toggleable__control:checked~label.sk-toggleable__label {background-color: #d4ebff;}#sk-container-id-2 div.sk-label input.sk-toggleable__control:checked~label.sk-toggleable__label {background-color: #d4ebff;}#sk-container-id-2 input.sk-hidden--visually {border: 0;clip: rect(1px 1px 1px 1px);clip: rect(1px, 1px, 1px, 1px);height: 1px;margin: -1px;overflow: hidden;padding: 0;position: absolute;width: 1px;}#sk-container-id-2 div.sk-estimator {font-family: monospace;background-color: #f0f8ff;border: 1px dotted black;border-radius: 0.25em;box-sizing: border-box;margin-bottom: 0.5em;}#sk-container-id-2 div.sk-estimator:hover {background-color: #d4ebff;}#sk-container-id-2 div.sk-parallel-item::after {content: \"\";width: 100%;border-bottom: 1px solid gray;flex-grow: 1;}#sk-container-id-2 div.sk-label:hover label.sk-toggleable__label {background-color: #d4ebff;}#sk-container-id-2 div.sk-serial::before {content: \"\";position: absolute;border-left: 1px solid gray;box-sizing: border-box;top: 0;bottom: 0;left: 50%;z-index: 0;}#sk-container-id-2 div.sk-serial {display: flex;flex-direction: column;align-items: center;background-color: white;padding-right: 0.2em;padding-left: 0.2em;position: relative;}#sk-container-id-2 div.sk-item {position: relative;z-index: 1;}#sk-container-id-2 div.sk-parallel {display: flex;align-items: stretch;justify-content: center;background-color: white;position: relative;}#sk-container-id-2 div.sk-item::before, #sk-container-id-2 div.sk-parallel-item::before {content: \"\";position: absolute;border-left: 1px solid gray;box-sizing: border-box;top: 0;bottom: 0;left: 50%;z-index: -1;}#sk-container-id-2 div.sk-parallel-item {display: flex;flex-direction: column;z-index: 1;position: relative;background-color: white;}#sk-container-id-2 div.sk-parallel-item:first-child::after {align-self: flex-end;width: 50%;}#sk-container-id-2 div.sk-parallel-item:last-child::after {align-self: flex-start;width: 50%;}#sk-container-id-2 div.sk-parallel-item:only-child::after {width: 0;}#sk-container-id-2 div.sk-dashed-wrapped {border: 1px dashed gray;margin: 0 0.4em 0.5em 0.4em;box-sizing: border-box;padding-bottom: 0.4em;background-color: white;}#sk-container-id-2 div.sk-label label {font-family: monospace;font-weight: bold;display: inline-block;line-height: 1.2em;}#sk-container-id-2 div.sk-label-container {text-align: center;}#sk-container-id-2 div.sk-container {/* jupyter's `normalize.less` sets `[hidden] { display: none; }` but bootstrap.min.css set `[hidden] { display: none !important; }` so we also need the `!important` here to be able to override the default hidden behavior on the sphinx rendered scikit-learn.org. See: https://github.com/scikit-learn/scikit-learn/issues/21755 */display: inline-block !important;position: relative;}#sk-container-id-2 div.sk-text-repr-fallback {display: none;}</style><div id=\"sk-container-id-2\" class=\"sk-top-container\"><div class=\"sk-text-repr-fallback\"><pre>LinearRegression()</pre><b>In a Jupyter environment, please rerun this cell to show the HTML representation or trust the notebook. <br />On GitHub, the HTML representation is unable to render, please try loading this page with nbviewer.org.</b></div><div class=\"sk-container\" hidden><div class=\"sk-item\"><div class=\"sk-estimator sk-toggleable\"><input class=\"sk-toggleable__control sk-hidden--visually\" id=\"sk-estimator-id-2\" type=\"checkbox\" checked><label for=\"sk-estimator-id-2\" class=\"sk-toggleable__label sk-toggleable__label-arrow\">LinearRegression</label><div class=\"sk-toggleable__content\"><pre>LinearRegression()</pre></div></div></div></div></div>"
      ],
      "text/plain": [
       "LinearRegression()"
      ]
     },
     "execution_count": 14,
     "metadata": {},
     "output_type": "execute_result"
    }
   ],
   "source": [
    "lr2=LinearRegression()\n",
    "lr2.fit(X_poly,y)"
   ]
  },
  {
   "cell_type": "code",
   "execution_count": 15,
   "metadata": {
    "colab": {
     "base_uri": "https://localhost:8080/",
     "height": 447
    },
    "id": "8jWGhcdkTB-B",
    "outputId": "ef8b8c26-3d15-4426-8517-dd351d483b41"
   },
   "outputs": [
    {
     "data": {
      "text/plain": [
       "[<matplotlib.lines.Line2D at 0x198a622a010>]"
      ]
     },
     "execution_count": 15,
     "metadata": {},
     "output_type": "execute_result"
    },
    {
     "data": {
      "image/png": "[encoded data removed]",
      "text/plain": [
       "<Figure size 640x480 with 1 Axes>"
      ]
     },
     "metadata": {},
     "output_type": "display_data"
    }
   ],
   "source": [
    "x_range=np.linspace(min(x),max(x),len(x))\n",
    "plt.scatter(x,y)\n",
    "plt.plot(x_range,lr2.predict(poly.fit_transform(x_range.reshape(-1,1))),color='red')"
   ]
  },
  {
   "cell_type": "code",
   "execution_count": null,
   "metadata": {
    "colab": {
     "base_uri": "https://localhost:8080/",
     "height": 447
    },
    "id": "9fuHpXYqS9dq",
    "outputId": "42214b71-db46-4740-c4e2-bf7ab27d91bb"
   },
   "outputs": [],
   "source": []
  }
 ],
 "metadata": {
  "colab": {
   "provenance": []
  },
  "kernelspec": {
   "display_name": "Python 3 (ipykernel)",
   "language": "python",
   "name": "python3"
  },
  "language_info": {
   "codemirror_mode": {
    "name": "ipython",
    "version": 3
   },
   "file_extension": ".py",
   "mimetype": "text/x-python",
   "name": "python",
   "nbconvert_exporter": "python",
   "pygments_lexer": "ipython3",
   "version": "3.11.2"
  }
 },
 "nbformat": 4,
 "nbformat_minor": 4
}
