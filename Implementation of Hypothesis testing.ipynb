{
 "cells": [
  {
   "cell_type": "code",
   "execution_count": 2,
   "id": "8ac47d0b-45ce-440b-90d3-98148d6fd32d",
   "metadata": {},
   "outputs": [],
   "source": [
    "import pandas as pd\n",
    "import numpy as np"
   ]
  },
  {
   "cell_type": "code",
   "execution_count": 2,
   "id": "d90bed13-b148-41ae-b33b-5d1e896dba5a",
   "metadata": {},
   "outputs": [
    {
     "data": {
      "text/plain": [
       "\"data = {\\n    'Values': [34,34,23,45,23,45,34,23,37,35]\\n}\\ndf = pd.DataFrame(data)\""
      ]
     },
     "execution_count": 2,
     "metadata": {},
     "output_type": "execute_result"
    }
   ],
   "source": [
    "'''data = {\n",
    "    'Values': [34,34,23,45,23,45,34,23,37,35]\n",
    "}\n",
    "df = pd.DataFrame(data)'''"
   ]
  },
  {
   "cell_type": "markdown",
   "id": "a9f34b99-e2e9-431e-ab63-04ab404c7c87",
   "metadata": {},
   "source": [
    "## T-Test  (Two tail test)"
   ]
  },
  {
   "cell_type": "markdown",
   "id": "df4c80cc-4439-4fc3-b08a-00a6a87e9b2c",
   "metadata": {},
   "source": [
    "### Question1 \n",
    "**The Violet industries produces furniture for home and office use. The production engineer claims that the average number of furniture items produced is 30. Test his claim.**"
   ]
  },
  {
   "cell_type": "code",
   "execution_count": 8,
   "id": "efe9b69d-c3fa-47f9-9bed-35e2b85ced03",
   "metadata": {},
   "outputs": [
    {
     "data": {
      "text/plain": [
       "index    10\n",
       "data     10\n",
       "dtype: int64"
      ]
     },
     "execution_count": 8,
     "metadata": {},
     "output_type": "execute_result"
    }
   ],
   "source": [
    "df=pd.read_csv('Data/Pract1_Question1.csv')\n",
    "df.count()  # v = n-1   10-1  "
   ]
  },
  {
   "cell_type": "markdown",
   "id": "05742f25-7ebd-4e53-bc2c-beb5e1c163cc",
   "metadata": {},
   "source": [
    "### Hypothesis\n",
    "- **Null Hypothesis : H$_o$**\n",
    " $$ µ= 30 $$\n",
    "- **Alternate Hypothesis : H$_1$**\n",
    "  $$ µ ≠ 30 $$"
   ]
  },
  {
   "cell_type": "markdown",
   "id": "7035f4d7-3ffb-4cda-889e-0a0b9342a763",
   "metadata": {},
   "source": [
    "#### Heading\n",
    "- text    hyp "
   ]
  },
  {
   "cell_type": "code",
   "execution_count": 7,
   "id": "81b62b23-492a-4d2d-96f7-7f6c7120b9dc",
   "metadata": {},
   "outputs": [
    {
     "data": {
      "text/plain": [
       "TtestResult(statistic=1.2674612253287467, pvalue=0.23680061493494728, df=9)"
      ]
     },
     "execution_count": 7,
     "metadata": {},
     "output_type": "execute_result"
    }
   ],
   "source": [
    "from scipy.stats import ttest_1samp\n",
    "ttest_1samp(df['data'],30)   # x mean = 30   p >0.05      0.05 0.05 "
   ]
  },
  {
   "cell_type": "markdown",
   "id": "9b88dfdb-2c49-471a-9908-d9d2b78d418f",
   "metadata": {},
   "source": [
    "### Conclusion : \n",
    "- Out p-value(0.23) is > 0.05 therefore we will ***reject the alternate hypothesis*** and select the null hypothesis ,\n",
    "- we may conclude that the avegrae number of furniture iteams produced by the machine A is equal to 30"
   ]
  },
  {
   "cell_type": "markdown",
   "id": "efb1b454-e054-4cdc-b561-22d98ff96fa6",
   "metadata": {},
   "source": [
    "## T-Test (One tail test)  Left tail"
   ]
  },
  {
   "cell_type": "markdown",
   "id": "84faa0e0-678b-4f92-b30a-2c5a5bf2bc2a",
   "metadata": {},
   "source": [
    "### Question 2 :\n",
    "**The Blaze Industries Pvt. Ltd. claims that their manufactured electric bulbs have a life of 45000 hrs . Test the their claim at 5% level of significance.**"
   ]
  },
  {
   "cell_type": "code",
   "execution_count": 10,
   "id": "dbf303fa-db52-4ee2-a0c4-8a45a5e3c7b0",
   "metadata": {},
   "outputs": [],
   "source": [
    "df2=pd.read_excel('Data/Pract1_Question2.xlsx')"
   ]
  },
  {
   "cell_type": "code",
   "execution_count": 12,
   "id": "ae354b16-79ca-4067-bccc-7bb734615749",
   "metadata": {},
   "outputs": [
    {
     "data": {
      "text/html": [
       "<div>\n",
       "<style scoped>\n",
       "    .dataframe tbody tr th:only-of-type {\n",
       "        vertical-align: middle;\n",
       "    }\n",
       "\n",
       "    .dataframe tbody tr th {\n",
       "        vertical-align: top;\n",
       "    }\n",
       "\n",
       "    .dataframe thead th {\n",
       "        text-align: right;\n",
       "    }\n",
       "</style>\n",
       "<table border=\"1\" class=\"dataframe\">\n",
       "  <thead>\n",
       "    <tr style=\"text-align: right;\">\n",
       "      <th></th>\n",
       "      <th>sr</th>\n",
       "      <th>Life</th>\n",
       "    </tr>\n",
       "  </thead>\n",
       "  <tbody>\n",
       "    <tr>\n",
       "      <th>0</th>\n",
       "      <td>1</td>\n",
       "      <td>35000</td>\n",
       "    </tr>\n",
       "    <tr>\n",
       "      <th>1</th>\n",
       "      <td>2</td>\n",
       "      <td>49000</td>\n",
       "    </tr>\n",
       "    <tr>\n",
       "      <th>2</th>\n",
       "      <td>3</td>\n",
       "      <td>44000</td>\n",
       "    </tr>\n",
       "    <tr>\n",
       "      <th>3</th>\n",
       "      <td>4</td>\n",
       "      <td>45900</td>\n",
       "    </tr>\n",
       "    <tr>\n",
       "      <th>4</th>\n",
       "      <td>5</td>\n",
       "      <td>43400</td>\n",
       "    </tr>\n",
       "  </tbody>\n",
       "</table>\n",
       "</div>"
      ],
      "text/plain": [
       "   sr   Life\n",
       "0   1  35000\n",
       "1   2  49000\n",
       "2   3  44000\n",
       "3   4  45900\n",
       "4   5  43400"
      ]
     },
     "execution_count": 12,
     "metadata": {},
     "output_type": "execute_result"
    }
   ],
   "source": [
    "df2.head()"
   ]
  },
  {
   "cell_type": "markdown",
   "id": "a8c1e289-3af5-4c0e-8697-a6a4041113d0",
   "metadata": {},
   "source": [
    "- logically considering the scenario where customers would only be dissatisfied if the bulb life is less than the claimed 45,000 hrs, then the alternative hypothesis should be set up to reflect that.\n",
    "- The alternative hypothesis would now reflect the concern that the actual average life of the bulbs is less than what the company claims, which would be problematic for the customer.\n",
    "- In this case, the correct formulation would be:\n",
    "\n",
    "-  **Null Hypothesis (H$_o$):** The average life of the bulbs is 45,000 hours \n",
    "     $$ 𝜇 = 45000 $$\n",
    "  \n",
    "\n",
    "-  **Alternative Hypothesis (H$_1$):** The average life of the bulbs is less than 45,000 hours\n",
    "       $$ 𝜇 <= 45000 $$\n"
   ]
  },
  {
   "cell_type": "code",
   "execution_count": 13,
   "id": "29699892-9f61-4719-a311-34717af3ae8a",
   "metadata": {},
   "outputs": [
    {
     "data": {
      "text/plain": [
       "TtestResult(statistic=-2.1981495173443797, pvalue=0.04525698313212501, df=14)"
      ]
     },
     "execution_count": 13,
     "metadata": {},
     "output_type": "execute_result"
    }
   ],
   "source": [
    "from scipy.stats import ttest_1samp\n",
    "t_test_less=ttest_1samp(df2['Life'],45000) \n",
    "t_test_less# x "
   ]
  },
  {
   "cell_type": "code",
   "execution_count": 8,
   "id": "e7638537-5481-4e23-8472-42053409f639",
   "metadata": {},
   "outputs": [
    {
     "data": {
      "text/plain": [
       "0.022628491566062506"
      ]
     },
     "execution_count": 8,
     "metadata": {},
     "output_type": "execute_result"
    }
   ],
   "source": [
    "p_value= t_test_less.pvalue /2\n",
    "p_value  #p>0.05"
   ]
  },
  {
   "cell_type": "markdown",
   "id": "89399d93-2315-4af0-a3cc-4c54ea4576e0",
   "metadata": {},
   "source": [
    "### Conclusion\n",
    "- Here our pvalue is less than 0.05 (p < 0.05) , So we will be ***rejecting the Null Hypothesis***\n",
    "- Hence the claims by Blaze Industries about the electric bulbs life has came false , That means the light bulb average life is less than 45,000hrs.\n"
   ]
  },
  {
   "cell_type": "markdown",
   "id": "370b8f49-2f40-4f07-acd7-21c66ff5ae1f",
   "metadata": {},
   "source": [
    "## Two sample T test"
   ]
  },
  {
   "cell_type": "markdown",
   "id": "41410ee2-2b40-4ef7-8f61-aeed86e8e577",
   "metadata": {},
   "source": [
    "### Question 3 :\n",
    "**In a pig farm, to increase the weight of the pigs two fifferent diets were given. The data fir gain in weight is as given. Test wheather the two diets differ significantly regarding their effect on increase in weight.**"
   ]
  },
  {
   "cell_type": "code",
   "execution_count": 9,
   "id": "c0a09f19-2369-41b7-b69b-6ecb89dcaea9",
   "metadata": {},
   "outputs": [],
   "source": [
    "df3= pd.read_csv('Data/Pract1_Question3.csv')"
   ]
  },
  {
   "cell_type": "code",
   "execution_count": 10,
   "id": "96bba518-bf82-41c7-94e7-5b47bae376fe",
   "metadata": {},
   "outputs": [
    {
     "data": {
      "text/html": [
       "<div>\n",
       "<style scoped>\n",
       "    .dataframe tbody tr th:only-of-type {\n",
       "        vertical-align: middle;\n",
       "    }\n",
       "\n",
       "    .dataframe tbody tr th {\n",
       "        vertical-align: top;\n",
       "    }\n",
       "\n",
       "    .dataframe thead th {\n",
       "        text-align: right;\n",
       "    }\n",
       "</style>\n",
       "<table border=\"1\" class=\"dataframe\">\n",
       "  <thead>\n",
       "    <tr style=\"text-align: right;\">\n",
       "      <th></th>\n",
       "      <th>sr</th>\n",
       "      <th>Diet A</th>\n",
       "      <th>Diet B</th>\n",
       "    </tr>\n",
       "  </thead>\n",
       "  <tbody>\n",
       "    <tr>\n",
       "      <th>0</th>\n",
       "      <td>1</td>\n",
       "      <td>45</td>\n",
       "      <td>45</td>\n",
       "    </tr>\n",
       "    <tr>\n",
       "      <th>1</th>\n",
       "      <td>2</td>\n",
       "      <td>34</td>\n",
       "      <td>35</td>\n",
       "    </tr>\n",
       "    <tr>\n",
       "      <th>2</th>\n",
       "      <td>3</td>\n",
       "      <td>46</td>\n",
       "      <td>32</td>\n",
       "    </tr>\n",
       "    <tr>\n",
       "      <th>3</th>\n",
       "      <td>4</td>\n",
       "      <td>23</td>\n",
       "      <td>47</td>\n",
       "    </tr>\n",
       "    <tr>\n",
       "      <th>4</th>\n",
       "      <td>5</td>\n",
       "      <td>67</td>\n",
       "      <td>37</td>\n",
       "    </tr>\n",
       "  </tbody>\n",
       "</table>\n",
       "</div>"
      ],
      "text/plain": [
       "   sr  Diet A  Diet B\n",
       "0   1      45      45\n",
       "1   2      34      35\n",
       "2   3      46      32\n",
       "3   4      23      47\n",
       "4   5      67      37"
      ]
     },
     "execution_count": 10,
     "metadata": {},
     "output_type": "execute_result"
    }
   ],
   "source": [
    "df3.head()     #  U1 U2 "
   ]
  },
  {
   "cell_type": "markdown",
   "id": "ba6ad438-ef49-442f-b0a3-d4d860c8341d",
   "metadata": {},
   "source": [
    "### Hypothesis\n",
    "- **Null Hypothesis (H$_o$) :** Average gain in weight in diet A is equal to average gain in weight in diet B\n",
    "\n",
    "    **𝜇 $_a$ = 𝜇 $_b$**\n",
    "  \n",
    "- **Alternate Hypothesis (H$_1$) :** Average gain in weight in diet A is not equal to average gain in weight in diet B\n",
    "\n",
    "    **𝜇 $_a$ ≠ 𝜇 $_b$**"
   ]
  },
  {
   "cell_type": "code",
   "execution_count": 11,
   "id": "f5ccb61d-739f-48e2-b4ca-f4afec89791d",
   "metadata": {},
   "outputs": [
    {
     "data": {
      "text/plain": [
       "TtestResult(statistic=0.5169140149580205, pvalue=0.6115094596012607, df=18.0)"
      ]
     },
     "execution_count": 11,
     "metadata": {},
     "output_type": "execute_result"
    }
   ],
   "source": [
    "from scipy.stats import ttest_ind    # 2 samp ttest_1sample  \n",
    "ttest_ind(df3['Diet A'],df3['Diet B'])   p >0.05"
   ]
  },
  {
   "cell_type": "markdown",
   "id": "c9eeae0a-4810-4ec6-89a9-5e4eb349e6b8",
   "metadata": {},
   "source": [
    "### Conclusion : \n",
    "- since we got the pvalue as 0.611 which is greater than 0.05 so we will ***accpeting the Null Hypothesis*** \n",
    "- so the average gain in weight due to diet A and B are the same."
   ]
  },
  {
   "cell_type": "markdown",
   "id": "88a94ffd-41c5-4d1c-bea0-ca73bcbc965c",
   "metadata": {},
   "source": [
    "## Pair T test"
   ]
  },
  {
   "attachments": {},
   "cell_type": "markdown",
   "id": "f55e0a6a-2e5a-4be4-9f71-79e4b6bab5fd",
   "metadata": {},
   "source": [
    "### Question - 4\n",
    "**An Pharma company claims to have produced a new drug which improves sleep of 18 year old teenagers. The hours of sleep for 10 teenagers before and after the giving the new drug is recorded. Test Wheather there is a significant difference in the average hours of sleep.**"
   ]
  },
  {
   "cell_type": "code",
   "execution_count": 12,
   "id": "59845fe4-62ad-41df-a413-bf285702fecf",
   "metadata": {},
   "outputs": [],
   "source": [
    "df = pd.read_excel('Data/Pairttest.xlsx')"
   ]
  },
  {
   "cell_type": "code",
   "execution_count": 13,
   "id": "294ff2c9-fadd-4c8e-9a15-edb26934e402",
   "metadata": {},
   "outputs": [
    {
     "data": {
      "text/html": [
       "<div>\n",
       "<style scoped>\n",
       "    .dataframe tbody tr th:only-of-type {\n",
       "        vertical-align: middle;\n",
       "    }\n",
       "\n",
       "    .dataframe tbody tr th {\n",
       "        vertical-align: top;\n",
       "    }\n",
       "\n",
       "    .dataframe thead th {\n",
       "        text-align: right;\n",
       "    }\n",
       "</style>\n",
       "<table border=\"1\" class=\"dataframe\">\n",
       "  <thead>\n",
       "    <tr style=\"text-align: right;\">\n",
       "      <th></th>\n",
       "      <th>sr no</th>\n",
       "      <th>Hourse of sleep (Before)</th>\n",
       "      <th>Hours of sleep (After)</th>\n",
       "    </tr>\n",
       "  </thead>\n",
       "  <tbody>\n",
       "    <tr>\n",
       "      <th>0</th>\n",
       "      <td>1</td>\n",
       "      <td>5.0</td>\n",
       "      <td>7.0</td>\n",
       "    </tr>\n",
       "    <tr>\n",
       "      <th>1</th>\n",
       "      <td>2</td>\n",
       "      <td>6.0</td>\n",
       "      <td>7.5</td>\n",
       "    </tr>\n",
       "    <tr>\n",
       "      <th>2</th>\n",
       "      <td>3</td>\n",
       "      <td>6.5</td>\n",
       "      <td>9.0</td>\n",
       "    </tr>\n",
       "    <tr>\n",
       "      <th>3</th>\n",
       "      <td>4</td>\n",
       "      <td>5.5</td>\n",
       "      <td>7.0</td>\n",
       "    </tr>\n",
       "    <tr>\n",
       "      <th>4</th>\n",
       "      <td>5</td>\n",
       "      <td>6.5</td>\n",
       "      <td>8.0</td>\n",
       "    </tr>\n",
       "    <tr>\n",
       "      <th>5</th>\n",
       "      <td>6</td>\n",
       "      <td>7.0</td>\n",
       "      <td>7.5</td>\n",
       "    </tr>\n",
       "    <tr>\n",
       "      <th>6</th>\n",
       "      <td>7</td>\n",
       "      <td>8.0</td>\n",
       "      <td>7.0</td>\n",
       "    </tr>\n",
       "    <tr>\n",
       "      <th>7</th>\n",
       "      <td>8</td>\n",
       "      <td>7.5</td>\n",
       "      <td>7.0</td>\n",
       "    </tr>\n",
       "    <tr>\n",
       "      <th>8</th>\n",
       "      <td>9</td>\n",
       "      <td>6.0</td>\n",
       "      <td>7.0</td>\n",
       "    </tr>\n",
       "    <tr>\n",
       "      <th>9</th>\n",
       "      <td>10</td>\n",
       "      <td>7.0</td>\n",
       "      <td>6.5</td>\n",
       "    </tr>\n",
       "  </tbody>\n",
       "</table>\n",
       "</div>"
      ],
      "text/plain": [
       "   sr no  Hourse of sleep (Before)  Hours of sleep (After)\n",
       "0      1                       5.0                     7.0\n",
       "1      2                       6.0                     7.5\n",
       "2      3                       6.5                     9.0\n",
       "3      4                       5.5                     7.0\n",
       "4      5                       6.5                     8.0\n",
       "5      6                       7.0                     7.5\n",
       "6      7                       8.0                     7.0\n",
       "7      8                       7.5                     7.0\n",
       "8      9                       6.0                     7.0\n",
       "9     10                       7.0                     6.5"
      ]
     },
     "execution_count": 13,
     "metadata": {},
     "output_type": "execute_result"
    }
   ],
   "source": [
    "df"
   ]
  },
  {
   "cell_type": "markdown",
   "id": "92dc3070-53eb-4246-a3ac-ac6659b987ce",
   "metadata": {},
   "source": [
    "**µ$_a$** : The average hourse of sleep before medication \n",
    "\n",
    "**µ$_b$** : The average hourse of sleep after medication\n",
    "### Hypothesis \n",
    "**Null Hypothesis H$_o$** : The average hourse of sleep before medication is equal to average sleep after medication\n",
    "$$ µa = µb  $$\n",
    "**Alternate Hypothesis H$_1$** : The average hourse of sleep before medication is not equal to average sleep after medication\n",
    "$$ µa ≠ µb  $$"
   ]
  },
  {
   "cell_type": "code",
   "execution_count": 14,
   "id": "35cba1d7-7998-45fa-9a83-5d626bf78106",
   "metadata": {},
   "outputs": [
    {
     "data": {
      "text/plain": [
       "TtestResult(statistic=-2.2785119632047284, pvalue=0.048680802344322635, df=9)"
      ]
     },
     "execution_count": 14,
     "metadata": {},
     "output_type": "execute_result"
    }
   ],
   "source": [
    "from scipy.stats import ttest_rel\n",
    "ttest_rel(df['Hourse of sleep (Before)'], df['Hours of sleep (After)'])"
   ]
  },
  {
   "cell_type": "markdown",
   "id": "21fbf15e-e584-4ff9-aa8d-f9fbbbdba5a0",
   "metadata": {},
   "source": [
    "### Conclusion :\n",
    "- The value of P is 0.048 that is less than 0.05 , hence we will **rejecting the Null Hypothesis H$_o$**\n",
    "- So the average hours of sleep before medication is not equal to the average sleep after medication\n",
    "- There is significant difference between the 2 drugs"
   ]
  },
  {
   "cell_type": "markdown",
   "id": "1b8571a2-fe18-4055-8215-59164f6338cb",
   "metadata": {},
   "source": [
    "### Question 5\n",
    "**A random sample of 40 glass rods is taken from a lot manufactured under a new process. They are tested for their breaking strength. Can we claim that the breaking strength is equal to 55lbs**"
   ]
  },
  {
   "cell_type": "code",
   "execution_count": 15,
   "id": "9f01c146-6ac7-492c-9427-a0460dd400e6",
   "metadata": {},
   "outputs": [
    {
     "data": {
      "text/plain": [
       "strength    40\n",
       "dtype: int64"
      ]
     },
     "execution_count": 15,
     "metadata": {},
     "output_type": "execute_result"
    }
   ],
   "source": [
    "df2= pd.read_excel('Data/One sample Z test.xlsx')\n",
    "df2.count()"
   ]
  },
  {
   "cell_type": "markdown",
   "id": "c6cdb93a-9630-49a7-b61d-d45f4b661bc0",
   "metadata": {},
   "source": [
    "### Hypothesis \n",
    "**Null Hypothesis H$_o$** : The mean breaking strength of the glass rod is equal to 55lbs\n",
    "$$ µ = 55 $$\n",
    "**Alternate Hypothesis H$_1$** : The mean breaking strength of the glass rod is not equal to 55lbs\n",
    "$$ µ ≠ 55  $$"
   ]
  },
  {
   "cell_type": "code",
   "execution_count": 16,
   "id": "c024048c-4636-4a58-98a6-82b8d3fd02d7",
   "metadata": {},
   "outputs": [
    {
     "data": {
      "text/plain": [
       "(-4.430631732961848, 9.395742863915199e-06)"
      ]
     },
     "execution_count": 16,
     "metadata": {},
     "output_type": "execute_result"
    }
   ],
   "source": [
    "from statsmodels.stats import weightstats as ztests\n",
    "\n",
    "ztests.ztest(df2['strength'],value=55)"
   ]
  },
  {
   "cell_type": "markdown",
   "id": "5423bc0a-9297-48cc-9f39-0815ad91c374",
   "metadata": {},
   "source": [
    "### Conclusion : \n",
    "- The p-value is 9.39 which is greater than 0.05 , hence we will be accepting the null hypothesis\n",
    "- we may conclude that the average breaking strength of the glass rod is not equal to 55lbs"
   ]
  },
  {
   "cell_type": "markdown",
   "id": "c6d949ae-71ad-4570-bb9b-a8f8c7b87994",
   "metadata": {},
   "source": [
    "# 2 sample Z test \n",
    "\n",
    "### Question 6\n",
    "**Two types of fertilizers are tested in farm lands of the same size. The yields in quintals are given below , can we conclude that the two fertilizers have the same yield**"
   ]
  },
  {
   "cell_type": "code",
   "execution_count": 17,
   "id": "7f0828ee-7ad2-4fd7-abea-ea99808237ef",
   "metadata": {},
   "outputs": [
    {
     "data": {
      "text/plain": [
       "F1    35\n",
       "F2    35\n",
       "dtype: int64"
      ]
     },
     "execution_count": 17,
     "metadata": {},
     "output_type": "execute_result"
    }
   ],
   "source": [
    "df4= pd.read_excel('Data/Fertilizer.xlsx')\n",
    "df4.count()"
   ]
  },
  {
   "cell_type": "markdown",
   "id": "40f59f77-f0bf-4be0-99d8-85d72ae38cc2",
   "metadata": {},
   "source": [
    "### Hypothesis \n",
    "**Null Hypothesis H$_o$** : Both the Fertilizers yiedls same results\n",
    "$$ µ1 = µ2 $$\n",
    "**Alternate Hypothesis H$_1$** : Yeild produced by both the fertilizers have a significant difference\n",
    "$$ µ1 ≠ µ2  $$"
   ]
  },
  {
   "cell_type": "code",
   "execution_count": 18,
   "id": "d501c419-21f5-4411-9363-57f5facbd4bf",
   "metadata": {},
   "outputs": [
    {
     "data": {
      "text/plain": [
       "(-1.1390306751872912, 0.25469036008906554)"
      ]
     },
     "execution_count": 18,
     "metadata": {},
     "output_type": "execute_result"
    }
   ],
   "source": [
    "ztests.ztest(df4['F1'],df4['F2'] )"
   ]
  },
  {
   "cell_type": "markdown",
   "id": "36b275fb-445b-4432-96df-fd38f65f6109",
   "metadata": {},
   "source": [
    "### Conclusion : \n",
    "- here p value is greater than 0.05 , hence we will be **accepting the Null Hypothesis.**\n",
    "- so the average yield of Fertilizer 1 is equal to the average yield of Fertilizer 2 \n"
   ]
  },
  {
   "cell_type": "code",
   "execution_count": null,
   "id": "55a43bca-ecfa-4981-9a82-90a0a6197737",
   "metadata": {},
   "outputs": [],
   "source": []
  }
 ],
 "metadata": {
  "kernelspec": {
   "display_name": "Python 3 (ipykernel)",
   "language": "python",
   "name": "python3"
  },
  "language_info": {
   "codemirror_mode": {
    "name": "ipython",
    "version": 3
   },
   "file_extension": ".py",
   "mimetype": "text/x-python",
   "name": "python",
   "nbconvert_exporter": "python",
   "pygments_lexer": "ipython3",
   "version": "3.11.2"
  }
 },
 "nbformat": 4,
 "nbformat_minor": 5
}
